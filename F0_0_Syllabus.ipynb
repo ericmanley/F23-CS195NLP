{
 "cells": [
  {
   "cell_type": "markdown",
   "metadata": {
    "id": "C192SOmJS6lw",
    "slideshow": {
     "slide_type": "slide"
    }
   },
   "source": [
    "# CS 195: Natural Language Processing\n",
    "## Syllabus, Fall 2023\n",
    "\n",
    "[![Open In Colab](https://colab.research.google.com/assets/colab-badge.svg)](https://colab.research.google.com/github/ericmanley/f23-CS195NLP/blob/main/F0_0_Syllabus.ipynb)\n"
   ]
  },
  {
   "cell_type": "markdown",
   "metadata": {
    "slideshow": {
     "slide_type": "slide"
    }
   },
   "source": [
    "## Instructor\n",
    "\n",
    "Eric Manley\n",
    "\n",
    "Chat: [Microsoft Teams](https://teams.microsoft.com/l/chat/0/0?users=eric.manley@drake.edu)\n",
    "\n",
    "Email: eric.manley@drake.edu\n",
    "\n",
    "Office: Collier-Scripps 327\n",
    "\n",
    "### Office Hours ###\n",
    "\n",
    "Schedule in [Starfish](https://drake.starfishsolutions.com/starfish-ops/dl/instructor/serviceCatalog.html?bookmark=connection/8352/schedule) the day before or drop in\n",
    "* M 10:00am-1:00pm\n",
    "* T 10:00am-12:00pm"
   ]
  },
  {
   "cell_type": "markdown",
   "metadata": {
    "id": "mWu6ZH-2Tjtt",
    "slideshow": {
     "slide_type": "slide"
    }
   },
   "source": [
    "## Course Description\n",
    "\n",
    "In this course, you will investigate modern algorithms and tools used in natural language applications like autocorrect, sentiment analysis, translation, and chat bots – including the technology behind large language models like ChatGPT and Google Bard. Topics include variations of neural networks for language tasks, hidden Markov models, and transformers.\n",
    "\n",
    "Prereq: CS 167 (Machine Learning) or instructor permission"
   ]
  },
  {
   "cell_type": "markdown",
   "metadata": {
    "slideshow": {
     "slide_type": "slide"
    }
   },
   "source": [
    "## Learning Objectives\n",
    "\n",
    "At the end of this course, students should be able to\n",
    "* Implement classic foundational algorithms for NLP tasks, like Hidden Markov Models for part-of-speech tagging and the Lesk Algorithm for word sense disambiguation\n",
    "* Create applications which incorporate pre-trained models for NLP tasks like text classification, translation, summarization, and question answering\n",
    "* Use modern libraries to build and train custom neural networks for NLP tasks\n",
    "* Describe neural network architectures, including transformers, that perform well on NLP tasks and explain how various recent neural network innovations have impacted the field\n",
    "* Fine-tune pre-trained NLP models with new data for a specific task"
   ]
  },
  {
   "cell_type": "markdown",
   "metadata": {
    "slideshow": {
     "slide_type": "slide"
    }
   },
   "source": [
    "## Course Structure\n",
    "\n",
    "The course will be broken into seven parts, each representing about two weeks (a fortnight) worth of class time. Class time will run in a workshop style format which intersperses **mini presentations** and individual/pair/group **work on projects**. Each fortnight will end with **demo day** (~30 minutes at the beginning or end of class) where students show off their work to their groups, and possibly to the whole class. The tentative demo schedule is as follows:\n",
    "* Fortnight 1 Demos: Tuesday, September 12th\n",
    "* Fortnight 2 Demos: Tuesday, September 26th\n",
    "* Fortnight 3 Demos: Tuesday, October 10th\n",
    "* Fortnight 4 Demos: Tuesday, October 24th\n",
    "* Fortnight 5 Demos: Tuesday, November 7th\n",
    "* Fortnight 6 Demos: Tuesday, November 21st\n",
    "* Fortnight 7 Demos: Thursday, December 7th"
   ]
  },
  {
   "cell_type": "markdown",
   "metadata": {
    "slideshow": {
     "slide_type": "slide"
    }
   },
   "source": [
    "### Attendance and Class Delivery Mode\n",
    "\n",
    "This class will meet in person, and your attendance is extremely important for your learning and for the benefit of the whole class. You are expected to attend unless you have a good reason. Any accommodations for remote participation should only be used with good reason.\n",
    "\n"
   ]
  },
  {
   "cell_type": "markdown",
   "metadata": {
    "slideshow": {
     "slide_type": "slide"
    }
   },
   "source": [
    "### Changes to Delivery Mode\n",
    "\n",
    "If the university or instructor determines it is necessary to switch to an online-only delivery mode, either temporarily (e.g., due to illness of the instructor) or permanently (e.g., a prolonged COVID outbreak on campus), arrangements will be communicated via an announcement on the Blackboard page and/or email."
   ]
  },
  {
   "cell_type": "markdown",
   "metadata": {
    "slideshow": {
     "slide_type": "slide"
    }
   },
   "source": [
    "### Recording\n",
    "\n",
    "I will attempt to record workshop presentations (though not work time) and post them to the Blackboard Panopto tool. These are provided as a courtesy for your reference, but they will not be a substitute for the in-class experience."
   ]
  },
  {
   "cell_type": "markdown",
   "metadata": {
    "slideshow": {
     "slide_type": "slide"
    }
   },
   "source": [
    "### What to do if you need to work remotely\n",
    "\n",
    "If you need to miss an in-person class because of illness or other reasons, you are expected to use the resources on the course website and Blackboard to stay caught up and continue your work.\n",
    "\n",
    "If you need to miss a *demo day*, you will need to **record your demo** and make it available to the instructor and members of your group.\n",
    "\n",
    "If, for some good reason, you require a **prolonged absence**, please communicate with the instructor to make arrangements."
   ]
  },
  {
   "cell_type": "markdown",
   "metadata": {
    "slideshow": {
     "slide_type": "slide"
    }
   },
   "source": [
    "## Tentative Topics Road Map\n",
    "\n",
    "The following is an example road map for our adventure. However, I hope to remain agile enough to follow the students in terms of topics and timelines, and I do not actually expect that the topics will line up neatly with each Fortnight.\n",
    "\n",
    "**Fortnight 1: The good stuff. Exploring pre-trained NLP models.**\n",
    "* HuggingFace models and libraries\n",
    "* Text classification\n",
    "* Translation\n",
    "* Summarization\n",
    "* Question answering and chatbots\n",
    "\n",
    "**Fortnight 2: Classic algorithms**\n",
    "* Working with the NLTK, working with corpora, and text processing\n",
    "* Markov Model text generation\n",
    "* Hidden Markov Models\n",
    "* Lesk Algorithm\n",
    "\n",
    "**Fortnight 3: Syntax, Parsing, and Linguistic Structures**\n",
    "* Syntax and Grammatical Structures\n",
    "* Constituency Parsing vs. Dependency Parsing\n",
    "* Context-Free Grammars (CFG) and Parsing Algorithms (like CYK)\n",
    "* Role of syntax in NLP (e.g., improving translation models, named entity recognition, etc.)\n",
    "    \n",
    "**Fortnight 4: Neural Networks for NLP**\n",
    "* Building and training neural nets in Keras (maybe TensorFlow or PyTorch too)\n",
    "* Recurrent neural networks and LSTM\n",
    "\n",
    "**Fortnight 5: Word Embeddings**\n",
    "* Bag of Words\n",
    "* TF-IDF\n",
    "* Word2Vec\n",
    "* GloVe\n",
    "\n",
    "**Fortnight 6: Transformers**\n",
    "* Attention and transformer overview\n",
    "* Popular transformer-based architectures\n",
    "\n",
    "**Fortnight 7: Fine-Tuning Pretrained Models**\n",
    "    \n"
   ]
  },
  {
   "cell_type": "markdown",
   "metadata": {
    "slideshow": {
     "slide_type": "slide"
    }
   },
   "source": [
    "## Learning Materials\n",
    "\n",
    "Code, slides, data will be posted here: https://github.com/ericmanley/F23-CS195NLP\n",
    "\n",
    "Blackboard will be used for recordings, turning in portfolios, and other things as needed"
   ]
  },
  {
   "cell_type": "markdown",
   "metadata": {
    "slideshow": {
     "slide_type": "fragment"
    }
   },
   "source": [
    "### Textbook\n",
    "\n",
    "We will not be following any one book very closely. I will share references for various topics as we go. However, the library has made the following textbook available to us for free as a reference:\n",
    "\n",
    "[Natural Language Understanding with Python : Combine Natural Language Technology, Deep Learning, and Large Language Models to Create Human-Like Comprehension](https://ebookcentral.proquest.com/lib/drake/reader.action?docID=30609769) by Deborah A. Dahl"
   ]
  },
  {
   "cell_type": "markdown",
   "metadata": {
    "slideshow": {
     "slide_type": "slide"
    }
   },
   "source": [
    "## Accountability, Portfolios, and Grading\n",
    "\n",
    "Each student is responsible for creating a porfolio of their work in this course, which should be shared with the instructor and updated throughout the semester. The portfolio should document all work that the student wants to claim credit for. It should be in the form of a Jupyter Notebook which includes a short description of each item, the names of group members who you demo'd it for, the number of xp earned, and a link to any additional notebooks or other artifacts involved. Example notebooks will be provided to show the expected format, but feel free to be creative in the presentation."
   ]
  },
  {
   "cell_type": "markdown",
   "metadata": {
    "slideshow": {
     "slide_type": "subslide"
    }
   },
   "source": [
    "### Experience Points\n",
    "\n",
    "You will accumulate Experience Points (xp) as you complete this course. On each demo day, you can earn xp for three different categories of items:\n",
    "\n",
    "1. **Core Practice:** 5xp per Fortnight. This is earned for running all sample code given in workshop presentations and keeping your own notes on it (in Markdown cells in the Jupyter Notebooks). You do not need to demo this to earn credit unless it is the only thing you are getting xp for in that Fortnight.\n",
    "2. **Applied Exploration:** 5xp per Fortnight. For each Fortnight, you can get this xp for completing exercises that apply the sample code in new ways. Usually, this will mean doing the same kinds of things in the sample code but with different models or data and writing a short evaluation of what you found in a Markdown cell. Instructions for how to earn this credit will be given with most workshop presentations, but it should typically represent at least a few hours of work outside of class for each Fortnight. You will typically start each of the Applied Explorations in class, but for the credit, you will need to complete at least one of them in detail with all of the requested notes, answers to questions, etc.\n",
    "3. **Creative Synthesis:** Unlimited xp available. This is earned for creative projects which involve substantially original code or writing. Defining the project itself is part of the work, but here are some guidelines. In addition to demoing these for your group, you should get the instructor's thumbs up to be sure you earned the xp (I may ask for revisions/additions before signing off on it). You may also negotiate with the instructor for other ideas you have.\n",
    "    * **Small project prototype:** 5xp. Create a prototype for a software application which uses ideas from the course (no set standard for \"size\", but I'm thinking about 100 lines of code or 5-10 hours of work)\n",
    "    * **Large project prototype:** 20xp. This is an application with more code and more polish than a small project. I would expect this to take at least 20 hours of work, and it can span multiple fortnights.\n",
    "    * **Extended implementation:** 5xp. Take the ideas from workshop presentation, *use additional resources*, and take it farther - implement new variations of an algorithm, use additional options/parameters, try things with different libraries, etc.\n",
    "    * **Write a tutorial:** 5xp. Write up a tutorial with original writing (citing any sources) explaining concepts or showing how to use tools/modules/libraries related to the course. Here are some examples of articles in this genre (but for non-NLP topics) - you can find many more on sites like these:\n",
    "        - https://www.kaggle.com/code/prashant111/svm-classifier-tutorial\n",
    "        - https://medium.com/analytics-vidhya/image-classification-with-tf-keras-introductory-tutorial-7e0ebb73d044\n",
    "        - https://pyimagesearch.com/2021/11/08/u-net-training-image-segmentation-models-in-pytorch/\n",
    "    * **Run a workshop:** 10xp - *subject to instructor approval and must be arranged in advance*. Pick a new topic that we haven't scheduled or haven't covered yet, and run a workshop for that day. It should include a mini-presentation and some work for students to do. \n",
    "    * **Team work:** 2xp. Earn these *additional* points on one of the above creative synthesis items that you worked on in collaboration with one or more other students. All team members should do enough individual work to meet the requirements on their own, and you must document individual work in your portfolio, but you will be rewarded for coordinating it in a teamwork setting.\n",
    "    * **Topic integration:** 2xp. Earn these *additional* points on one of the above creative synthesis items that includes substantial combination of two or more different course topics (or a course topic and another topic outside the scope of the class - an NLP topic we didn't cover, something from another course, etc.), integrated into one cohesive deliverable."
   ]
  },
  {
   "cell_type": "markdown",
   "metadata": {
    "slideshow": {
     "slide_type": "subslide"
    }
   },
   "source": [
    "### Grade Assignment\n",
    "\n",
    "The number of xp needed (and documented in your portfolio) to reach a given course grade is as follows:\n",
    "\n",
    "| xp | Grade |\n",
    "| --- | :-- |\n",
    "| 30 | D |\n",
    "| 40 | C- |\n",
    "| 50 | C |\n",
    "| 60 | C+ |\n",
    "| 70 | B- |\n",
    "| 80 | B |\n",
    "| 85 | B+ |\n",
    "| 90 | A- |\n",
    "| 95 | A |\n",
    "\n",
    "\n",
    "A total of less than 30xp total will result in an F.\n",
    "\n",
    "Note that this means there are a variety of ways to achieve any given grade. Here are some examples:\n",
    "* If you only do the *Core Practice* for every fortnight and nothing else, you'll pass the class. \n",
    "* If you do only the *Core Practice* and *Applied Exploration* for every fortnight, you'll get a B-.\n",
    "* If you do the *Core Practice* and *Applied Exploration* for every fortnight *and* one extended implementation and one large project, you'll get an A. \n",
    "* If you do all the *Core Practice*, write three tutorials, do three individual small projects, and two small group projects with topic integration, you will get a B.\n",
    "\n",
    "**If you are usure of what to do:** Do the *core practice*, an *applied exploration*, and a *small project prototype* for each fortnight. \n"
   ]
  },
  {
   "cell_type": "markdown",
   "metadata": {
    "slideshow": {
     "slide_type": "slide"
    }
   },
   "source": [
    "\n",
    "### Accommodations for Students with Disabilities ###\n",
    "\n",
    "I will be happy to discuss any academic accommodations needed for students with disabilities. However, any student seeking accommodation must coordinate them with the [Access and Success office](https://www.drake.edu/disabilityservices/ ) before the accommodations are needed. No retroactive accommodations will be made."
   ]
  },
  {
   "cell_type": "markdown",
   "metadata": {
    "slideshow": {
     "slide_type": "slide"
    }
   },
   "source": [
    "### Academic Integrity ###\n",
    "Drake University has high standards for academic integrity, and you are expected to read the [Academic Dishonesty Policy](https://www.drake.edu/artsci/studentresources/policiesandregulations/#dishonesty) from the College of Arts and Sciences. \n",
    "\n",
    "Below is a particularly relevant excerpt from the  statement:\n",
    "\n",
    "> Academic dishonesty is an all encompassing term involving any activity that \n",
    "> seeks to gain credit for work one has not done or to deliberately damage or \n",
    "> destroy the work of others. Academic dishonesty includes, but is not limited \n",
    "> to, plagiarism, cheating, fabrication, and knowingly helping another to \n",
    "> commit an act of academic dishonesty.\n",
    "\n",
    "*Bottom line:* don't pass off work of others (including AI-generated content) as your own, and be open and trasparent about all use of sources\n"
   ]
  }
 ],
 "metadata": {
  "celltoolbar": "Slideshow",
  "colab": {
   "authorship_tag": "ABX9TyOf2oi4GbgdvkO0orSdgZtQ",
   "provenance": []
  },
  "kernelspec": {
   "display_name": "Python 3 (ipykernel)",
   "language": "python",
   "name": "python3"
  },
  "language_info": {
   "codemirror_mode": {
    "name": "ipython",
    "version": 3
   },
   "file_extension": ".py",
   "mimetype": "text/x-python",
   "name": "python",
   "nbconvert_exporter": "python",
   "pygments_lexer": "ipython3",
   "version": "3.10.6"
  }
 },
 "nbformat": 4,
 "nbformat_minor": 1
}
