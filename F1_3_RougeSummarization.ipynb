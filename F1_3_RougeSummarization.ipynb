{
 "cells": [
  {
   "cell_type": "markdown",
   "metadata": {
    "id": "C192SOmJS6lw",
    "slideshow": {
     "slide_type": "slide"
    }
   },
   "source": [
    "# CS 195: Natural Language Processing\n",
    "## ROUGE and Summarization\n",
    "\n",
    "[![Open In Colab](https://colab.research.google.com/assets/colab-badge.svg)](https://colab.research.google.com/github/ericmanley/f23-CS195NLP/blob/main/F1_3_RougeSummarization.ipynb)\n"
   ]
  },
  {
   "cell_type": "markdown",
   "metadata": {
    "slideshow": {
     "slide_type": "slide"
    }
   },
   "source": [
    "## First, let's finish up the group work from last time\n",
    "\n",
    "Choose **two** of the new *text classification* models your group experimented with last week that you can find the datasets for (https://huggingface.co/datasets if not linked directly).\n",
    "\n",
    "Split into two subgroups\n",
    "* each subgroup: evaluate one of the models using the metrics shown last time\n",
    "\n",
    "**Prepare to debrief:** I will have you present at least one set of results per group."
   ]
  },
  {
   "cell_type": "markdown",
   "metadata": {
    "slideshow": {
     "slide_type": "slide"
    }
   },
   "source": [
    "## Next Tuesday: First Demo Day!\n",
    "\n",
    "Reminder: you will present a demo to your group on whatever you've done for the first fortnight\n",
    "* Show off one Applied Exploration that you finished\n",
    "    - finished outside of class, polished it up, included answers to all requested questions and any other notes of interest\n",
    "* If you have completed any Creative Synthesis items - show those off\n",
    "    - if you're doing this, spend less/very-little time on your Applied Exploration demo, but you should still have it for your portfolio\n",
    "    - check the [syllabus](https://github.com/ericmanley/F23-CS195NLP/blob/main/F0_0_Syllabus.ipynb) for options\n",
    "* If you didn't do any Creative Synthesis or Applied Exploration, show a Core Practice\n",
    "\n",
    "We'll talk more about portfolio format next week"
   ]
  },
  {
   "cell_type": "markdown",
   "metadata": {
    "slideshow": {
     "slide_type": "slide"
    }
   },
   "source": [
    "## Student Research Groups\n",
    "\n",
    "Friday, September 8th at 1:00pm in C-S 301\n",
    "\n",
    "No experience required\n",
    "\n",
    "Come to learn more about possible research groups in mathematics, computer science, math education, data science, cyber security, and more!\n"
   ]
  },
  {
   "cell_type": "markdown",
   "metadata": {
    "slideshow": {
     "slide_type": "slide"
    }
   },
   "source": [
    "## References\n",
    "\n",
    "*Two minutes NLP — Learn the ROUGE metric* by examples by Fabio Chiusano: https://medium.com/nlplanet/two-minutes-nlp-learn-the-rouge-metric-by-examples-f179cc285499\n",
    "\n",
    "Google's implementation of rouge_score: https://github.com/google-research/google-research/tree/master/rouge\n",
    "\n",
    "Hugging Face's wrapper for Google's implementation: https://huggingface.co/spaces/evaluate-metric/rouge\n",
    "\n",
    "Hugging Face Task Guide on Summarization: https://huggingface.co/docs/transformers/tasks/summarization\n"
   ]
  },
  {
   "cell_type": "markdown",
   "metadata": {
    "slideshow": {
     "slide_type": "slide"
    }
   },
   "source": [
    "## Installing necessary modules"
   ]
  },
  {
   "cell_type": "code",
   "execution_count": 1,
   "metadata": {},
   "outputs": [
    {
     "name": "stdout",
     "output_type": "stream",
     "text": [
      "Defaulting to user installation because normal site-packages is not writeable\n",
      "Requirement already satisfied: transformers in /Users/000794593/Library/Python/3.10/lib/python/site-packages (4.32.0)\n",
      "Requirement already satisfied: datasets in /Users/000794593/Library/Python/3.10/lib/python/site-packages (2.14.4)\n",
      "Requirement already satisfied: evaluate in /Users/000794593/Library/Python/3.10/lib/python/site-packages (0.4.0)\n",
      "Requirement already satisfied: rouge_score in /Users/000794593/Library/Python/3.10/lib/python/site-packages (0.1.2)\n",
      "Requirement already satisfied: pyyaml>=5.1 in /Library/Frameworks/Python.framework/Versions/3.10/lib/python3.10/site-packages (from transformers) (6.0)\n",
      "Requirement already satisfied: numpy>=1.17 in /Library/Frameworks/Python.framework/Versions/3.10/lib/python3.10/site-packages (from transformers) (1.23.2)\n",
      "Requirement already satisfied: tokenizers!=0.11.3,<0.14,>=0.11.1 in /Users/000794593/Library/Python/3.10/lib/python/site-packages (from transformers) (0.13.3)\n",
      "Requirement already satisfied: huggingface-hub<1.0,>=0.15.1 in /Users/000794593/Library/Python/3.10/lib/python/site-packages (from transformers) (0.16.4)\n",
      "Requirement already satisfied: filelock in /Users/000794593/Library/Python/3.10/lib/python/site-packages (from transformers) (3.8.0)\n",
      "Requirement already satisfied: safetensors>=0.3.1 in /Users/000794593/Library/Python/3.10/lib/python/site-packages (from transformers) (0.3.3)\n",
      "Requirement already satisfied: regex!=2019.12.17 in /Users/000794593/Library/Python/3.10/lib/python/site-packages (from transformers) (2023.8.8)\n",
      "Requirement already satisfied: packaging>=20.0 in /Users/000794593/Library/Python/3.10/lib/python/site-packages (from transformers) (21.3)\n",
      "Requirement already satisfied: tqdm>=4.27 in /Users/000794593/Library/Python/3.10/lib/python/site-packages (from transformers) (4.66.1)\n",
      "Requirement already satisfied: requests in /Users/000794593/Library/Python/3.10/lib/python/site-packages (from transformers) (2.28.1)\n",
      "Requirement already satisfied: fsspec[http]>=2021.11.1 in /Users/000794593/Library/Python/3.10/lib/python/site-packages (from datasets) (2023.6.0)\n",
      "Requirement already satisfied: pyarrow>=8.0.0 in /Users/000794593/Library/Python/3.10/lib/python/site-packages (from datasets) (9.0.0)\n",
      "Requirement already satisfied: pandas in /Library/Frameworks/Python.framework/Versions/3.10/lib/python3.10/site-packages (from datasets) (1.4.3)\n",
      "Requirement already satisfied: dill<0.3.8,>=0.3.0 in /Users/000794593/Library/Python/3.10/lib/python/site-packages (from datasets) (0.3.7)\n",
      "Requirement already satisfied: xxhash in /Users/000794593/Library/Python/3.10/lib/python/site-packages (from datasets) (3.3.0)\n",
      "Requirement already satisfied: multiprocess in /Users/000794593/Library/Python/3.10/lib/python/site-packages (from datasets) (0.70.15)\n",
      "Requirement already satisfied: aiohttp in /Users/000794593/Library/Python/3.10/lib/python/site-packages (from datasets) (3.8.5)\n",
      "Requirement already satisfied: responses<0.19 in /Users/000794593/Library/Python/3.10/lib/python/site-packages (from evaluate) (0.18.0)\n",
      "Requirement already satisfied: absl-py in /Users/000794593/Library/Python/3.10/lib/python/site-packages (from rouge_score) (1.4.0)\n",
      "Requirement already satisfied: nltk in /Users/000794593/Library/Python/3.10/lib/python/site-packages (from rouge_score) (3.8.1)\n",
      "Requirement already satisfied: six>=1.14.0 in /Users/000794593/Library/Python/3.10/lib/python/site-packages (from rouge_score) (1.16.0)\n",
      "Requirement already satisfied: charset-normalizer<4.0,>=2.0 in /Users/000794593/Library/Python/3.10/lib/python/site-packages (from aiohttp->datasets) (2.1.1)\n",
      "Requirement already satisfied: frozenlist>=1.1.1 in /Users/000794593/Library/Python/3.10/lib/python/site-packages (from aiohttp->datasets) (1.4.0)\n",
      "Requirement already satisfied: multidict<7.0,>=4.5 in /Users/000794593/Library/Python/3.10/lib/python/site-packages (from aiohttp->datasets) (6.0.4)\n",
      "Requirement already satisfied: yarl<2.0,>=1.0 in /Users/000794593/Library/Python/3.10/lib/python/site-packages (from aiohttp->datasets) (1.9.2)\n",
      "Requirement already satisfied: attrs>=17.3.0 in /Users/000794593/Library/Python/3.10/lib/python/site-packages (from aiohttp->datasets) (22.1.0)\n",
      "Requirement already satisfied: async-timeout<5.0,>=4.0.0a3 in /Users/000794593/Library/Python/3.10/lib/python/site-packages (from aiohttp->datasets) (4.0.3)\n",
      "Requirement already satisfied: aiosignal>=1.1.2 in /Users/000794593/Library/Python/3.10/lib/python/site-packages (from aiohttp->datasets) (1.3.1)\n",
      "Requirement already satisfied: typing-extensions>=3.7.4.3 in /Users/000794593/Library/Python/3.10/lib/python/site-packages (from huggingface-hub<1.0,>=0.15.1->transformers) (4.3.0)\n",
      "Requirement already satisfied: pyparsing!=3.0.5,>=2.0.2 in /Users/000794593/Library/Python/3.10/lib/python/site-packages (from packaging>=20.0->transformers) (3.0.9)\n",
      "Requirement already satisfied: idna<4,>=2.5 in /Users/000794593/Library/Python/3.10/lib/python/site-packages (from requests->transformers) (3.3)\n",
      "Requirement already satisfied: certifi>=2017.4.17 in /Users/000794593/Library/Python/3.10/lib/python/site-packages (from requests->transformers) (2022.6.15)\n",
      "Requirement already satisfied: urllib3<1.27,>=1.21.1 in /Users/000794593/Library/Python/3.10/lib/python/site-packages (from requests->transformers) (1.26.12)\n",
      "Requirement already satisfied: click in /Library/Frameworks/Python.framework/Versions/3.10/lib/python3.10/site-packages (from nltk->rouge_score) (8.1.3)\n",
      "Requirement already satisfied: joblib in /Users/000794593/Library/Python/3.10/lib/python/site-packages (from nltk->rouge_score) (1.1.0)\n",
      "Requirement already satisfied: pytz>=2020.1 in /Library/Frameworks/Python.framework/Versions/3.10/lib/python3.10/site-packages (from pandas->datasets) (2022.2.1)\n",
      "Requirement already satisfied: python-dateutil>=2.8.1 in /Users/000794593/Library/Python/3.10/lib/python/site-packages (from pandas->datasets) (2.8.2)\n",
      "\n",
      "\u001b[1m[\u001b[0m\u001b[34;49mnotice\u001b[0m\u001b[1;39;49m]\u001b[0m\u001b[39;49m A new release of pip available: \u001b[0m\u001b[31;49m22.2.2\u001b[0m\u001b[39;49m -> \u001b[0m\u001b[32;49m23.2.1\u001b[0m\n",
      "\u001b[1m[\u001b[0m\u001b[34;49mnotice\u001b[0m\u001b[1;39;49m]\u001b[0m\u001b[39;49m To update, run: \u001b[0m\u001b[32;49m/Library/Frameworks/Python.framework/Versions/3.10/bin/python3 -m pip install --upgrade pip\u001b[0m\n"
     ]
    }
   ],
   "source": [
    "import sys\n",
    "!{sys.executable} -m pip install transformers datasets evaluate rouge_score"
   ]
  },
  {
   "cell_type": "markdown",
   "metadata": {
    "slideshow": {
     "slide_type": "slide"
    }
   },
   "source": [
    "## Sequence-to-Sequence Models\n",
    "\n",
    "NLP models that take one sequence as input and produce another sequence as output are called **Seq2seq**\n",
    "* summarization\n",
    "* translation\n",
    "* conversation\n",
    "\n",
    "**A Challenge:** unlike classification, there's no way to tell for sure whether the prediction is right!\n",
    "\n",
    "**Partial Solutions:** \n",
    "* Qualitative metrics - humans can describe how closely they match\n",
    "* ROUGE Metrics: statistics that measure similarities between two sequences.\n",
    "\n"
   ]
  },
  {
   "cell_type": "markdown",
   "metadata": {
    "slideshow": {
     "slide_type": "slide"
    }
   },
   "source": [
    "## Getting started with ROUGE\n",
    "\n",
    "**ROUGE:** Recall-Oriented Understudy for Gisting Evaluation\n",
    "\n",
    "Suppose we have a **reference** sequence, which is one known possible *correct* sequence\n",
    "* E.g., a translation or a summarization that a trustworthy human has produced\n",
    "\n",
    "**Example reference:** \"A broody hen sat in a nesting box all day.\"\n",
    "\n",
    "**Example machine-generated prediction:** \"A hen sat in every nesting box that long sunny day.\"\n",
    "\n"
   ]
  },
  {
   "cell_type": "code",
   "execution_count": 2,
   "metadata": {
    "slideshow": {
     "slide_type": "subslide"
    }
   },
   "outputs": [
    {
     "data": {
      "text/plain": [
       "{'rouge1': 0.6666666666666666,\n",
       " 'rouge2': 0.3157894736842105,\n",
       " 'rougeL': 0.6666666666666666,\n",
       " 'rougeLsum': 0.6666666666666666}"
      ]
     },
     "execution_count": 2,
     "metadata": {},
     "output_type": "execute_result"
    }
   ],
   "source": [
    "import evaluate\n",
    "\n",
    "rouge = evaluate.load(\"rouge\")\n",
    "\n",
    "predicted_sentence = \"A broody hen sat in a nesting box all day\"\n",
    "reference_sentence = \"A hen sat in every nesting box that long sunny day\"\n",
    "\n",
    "rouge.compute(predictions=[predicted_sentence],references=[reference_sentence])"
   ]
  },
  {
   "cell_type": "markdown",
   "metadata": {
    "slideshow": {
     "slide_type": "slide"
    }
   },
   "source": [
    "## Understanding ROUGE-1 and ROUGE-2\n",
    "\n",
    "These tell you how often words or sequences of words match in the prediction and reference data.\n",
    "\n",
    "`rouge1` - overlap of individual words (1-grams) between prediction and reference\n",
    "\n",
    "`rouge2` - overlap of *bigrams* (2-grams, pairs of consecutive words)\n",
    "\n",
    "Both of these are given in terms of their F1 score. Remember, F1 is a balance of *precision* and *recall*, specifically $$F1 = 2 * (Precision * Recall) / (Precision + Recall)$$"
   ]
  },
  {
   "cell_type": "markdown",
   "metadata": {},
   "source": [
    "### in this context...\n",
    "\n",
    "**Precision:** Given all the n-grams in the predictions, how many are also present in the reference?\n",
    "\n",
    "**Recall:** Given all the n-grams in the reference, how many are also present in the prediction?"
   ]
  },
  {
   "cell_type": "markdown",
   "metadata": {
    "slideshow": {
     "slide_type": "subslide"
    }
   },
   "source": [
    "### ROUGE-1 example\n",
    "\n",
    "**Reference:** A broody hen sat in a nesting box all day. (10 words)\n",
    "\n",
    "**Prediction:** A hen sat in every nesting box that long sunny day. (11 words)\n",
    "\n",
    "**Overlapping words:** a, hen, sat, in, nesting, box, day (7 words)\n",
    "\n",
    "**Precision:** of the 11 words in the prediction, 7 of them are also in the reference, so $7/11 \\approx 0.64$\n",
    "\n",
    "**Recall:** of the 10 words in the reference, 7 of them are also present in the prediction (first \"a\" has match, second doesn't), so $7/10 = 0.7$\n",
    "\n",
    "**F1 score:** $2*(0.64*0.7)/(0.64+0.7) \\approx 0.67$\n"
   ]
  },
  {
   "cell_type": "markdown",
   "metadata": {
    "slideshow": {
     "slide_type": "subslide"
    }
   },
   "source": [
    "### ROUGE-2 example\n",
    "\n",
    "**Reference:** A broody hen sat in a nesting box all day. (9 bigrams)\n",
    "\n",
    "**Prediction:** A hen sat in every nesting box that long sunny day. (10 bigrams)\n",
    "\n",
    "**Overlapping bigrams:** (hen sat), (sat in), (nesting box) (3 bigrams)\n",
    "\n",
    "**Precision:** of the 10 bigrams in the prediction, 3 of them are also in the reference, so $3/10 = 0.3$\n",
    "\n",
    "**Recall:** of the 9 bigrams in the reference, 3 of them are also present in the prediction, so $3/9 \\approx 0.33$\n",
    "\n",
    "**F1 score:** $2*(0.3*0.33)/(0.3+0.33) \\approx 0.31$"
   ]
  },
  {
   "cell_type": "markdown",
   "metadata": {
    "slideshow": {
     "slide_type": "subslide"
    }
   },
   "source": [
    "## Understanding ROUGE-L and ROUGE-Lsum\n",
    "\n",
    "`rougeL` - the *longest common subsequence* between the prediction and reference. The subsequence must be in *order* but not nececssarily *consecutive*\n",
    "\n",
    "**Reference:** **A** broody **hen sat in** a **nesting box** all **day**. (10 words)\n",
    "\n",
    "**Prediction:** **A hen sat in** every **nesting box** that long sunny **day**. (11 words)\n",
    "\n",
    "**Longest Common Subsequence:** 7 words\n",
    "\n",
    "**Precision:** 7 words of 11 in the prediction, 0.64\n",
    "\n",
    "**Recall:** 7 of 10 words in the reference, 0.7\n",
    "\n",
    "**F1 score:** $2*(0.64*0.7)/(0.64+0.7) \\approx 0.67$\n",
    "\n",
    "`rougeLsum` - do `rougeL` for each newline/sentence and aggregate the results\n"
   ]
  },
  {
   "cell_type": "markdown",
   "metadata": {
    "slideshow": {
     "slide_type": "slide"
    }
   },
   "source": [
    "## Summarization in Hugging Face\n",
    "\n",
    "Hugging Face hosts many summarization models. Here's one called BART (https://huggingface.co/facebook/bart-large-cnn) that was trained on CNN/Daily Mail news articles (https://huggingface.co/datasets/cnn_dailymail) which include **reference** summaries written by the authors of the original article. \n",
    "\n",
    "We'll try it out on a Times-Delphic article I found here: https://timesdelphic.com/2023/09/the-answer-has-little-to-do-with-affirmative-action-over-the-summer-the-supreme-court-ruled-against-the-admissions-programs-of-harvard-university-and-the-university-of-north-carolina-in-an-affirmat/"
   ]
  },
  {
   "cell_type": "code",
   "execution_count": 3,
   "metadata": {},
   "outputs": [],
   "source": [
    "from transformers import pipeline\n",
    "\n",
    "summarizer = pipeline(\"summarization\", model=\"facebook/bart-large-cnn\") #could also try google/pegasus-xsum"
   ]
  },
  {
   "cell_type": "code",
   "execution_count": 4,
   "metadata": {},
   "outputs": [],
   "source": [
    "times_delphic_story = \"\"\"\n",
    "How does the Supreme Court ruling on affirmative action affect Drake?\n",
    "The answer has little to do with affirmative action.\n",
    "Over the summer, the Supreme Court ruled against the admissions programs of Harvard University and the University of North Carolina in an affirmative action decision. Before the decision, race already wasn’t a factor in Drake University admissions, according to Provost Sue Mattison. \n",
    "“Affirmative action, with regards to admissions, only impacts those really highly selective institutions that limit the number of incoming students,” Mattison said. “So that doesn’t apply to Drake and most institutions across the country.”\n",
    "She said schools like Harvard and UNC have enough applicants that they can pick and choose which applicants fill a certain number of spots.\n",
    "Drake’s admissions team found that the university has “admitted all students who have a 3.0 high school GPA or [higher],” Mattison said. “Even though we’ve asked for a person’s race on the admissions form, it does not have an impact on the admissions decision, and it doesn’t displace anybody.”\n",
    "Possible effects of the court’s ruling \n",
    "Mark Kende, director of Drake’s Constitutional Law Center, said the Supreme Court “basically has embraced an idea that it calls colorblindness.”\n",
    "“If you take their principle of colorblindness and extend it beyond universities, to other places, it could raise some problems,” Kende said. “But we don’t know yet.”\n",
    "Financial aid programs that prioritize applicants of a particular race over another are more vulnerable after the court’s decision, according to Kende. He said it’s not clear what impact the decision might have on university hiring practices that consider an employee’s race, as well as corporations’ diversity programs.\n",
    "Following the Supreme Court’s decision, Missouri Attorney General Andrew Bailey said Missouri institutions subject to the U.S. Constitution or Title VI must stop using race-based standards “to make decisions about things like admissions, scholarships, programs and employment.” \n",
    "The University of Missouri System said that “a small number of our programs and scholarships have used race/ethnicity as a factor for admissions and scholarships,” and that “these practices will be discontinued.”\n",
    "Drake is taking a different approach in the wake of the affirmative action decision. The university is monitoring maybe about forty to fifty scholarships, according to Ryan Zantingh, Drake’s director of financial aid. This is more in anticipation of a comparable case on financial aid that considers race, rather than a reaction to the affirmative action ruling.\n",
    "Mattison said she thinks Drake is still trying to determine how the Supreme Court decision will impact Drake’s Crew Scholars program, which is for incoming students of color.  \n",
    "“There are ways that we can ensure that we continue Crew Scholars while still being compliant,” Mattison said.\n",
    "Donors for some Drake scholarships specified that they wanted to support a student of color or a woman in a STEM field, Mattison said.\n",
    "“And so we’re still working through what that actually means, and what we have to do to continue to achieve the values that we expect,” Mattison said. “There are ways that we can change the wording of some of the scholarships.”\n",
    "Like all students, students of color may qualify for scholarships for first-generation students or students with financial need. \n",
    "“There’s a lot of overlap between students of color and other areas where financial aid is directed,” Zantingh said. “Scholarship resources can be directed [to financial need or first generation status] and still reach the same students.”\n",
    "Even if there is a ruling on financial aid that’s comparable to the affirmative action decision, Zantingh doesn’t expect a large impact on Drake financial aid from either decision. \n",
    "“There may be some implications, but I think the overall general effect on students will be little to none,” Zantingh said. \n",
    "Zantingh gave an example of scholarship language offered by legal counsel. If a scholarship is for only minority students, it might become a scholarship that gives preference to students who demonstrate a commitment to Drake’s vision for diversity on campus. \n",
    "“If a white student is actively involved in anti-racist leadership here on campus, certainly they would fit that description then, wouldn’t they?” Zantingh said. “Basically, the language would not seek to exclude any particular protected class categorically.”\n",
    "In some cases, a donor might be unwilling to change the scholarship’s language or be deceased, Zantingh said. If a donor is deceased, a judge might approve changes. He said he doesn’t expect Drake to cut any of the scholarships it is monitoring.\n",
    "“The scholarship criteria would have to change, or the dollars would have to be repurposed in another way. Per either the donor or a court’s approval,” Zantingh said. \n",
    "Race can still play a role in college admissions\n",
    "The Supreme Court left at least one legal path open for race to play a role in college admissions. \n",
    "When admitting students, universities are allowed to consider “an applicant’s discussion of how race affected his or her life, be it through discrimination, inspiration or otherwise,” Chief Justice John Roberts wrote in the Court’s decision. However, “the student must be treated based on his or her experiences as an individual — not on the basis of race.” \n",
    "A student’s story can emerge without Drake asking for it, according to Dean of Admissions Joel Johnson. \n",
    "“Especially if they’ve overcome a lot, or it’s so key to their identity… it’ll come out on its own,” Johnson said. “I don’t know if I could say the Supreme Court protected it. They couldn’t have stopped it, honestly.”\n",
    "Johnson said that caring about diversity also means intentionally recruiting a diverse group of students. He said students can’t join Drake if they never apply in the first place.\n",
    "In the wake of the Supreme Court’s decision on affirmative action, The Times-Delphic is publishing a series. Check next week’s paper for an article about legacy admissions and legacy financial aid with a Drake focus. \n",
    "\n",
    "\"\"\""
   ]
  },
  {
   "cell_type": "code",
   "execution_count": 5,
   "metadata": {},
   "outputs": [
    {
     "data": {
      "text/plain": [
       "6103"
      ]
     },
     "execution_count": 5,
     "metadata": {},
     "output_type": "execute_result"
    }
   ],
   "source": [
    "len(times_delphic_story) #let's check how long this string is"
   ]
  },
  {
   "cell_type": "code",
   "execution_count": 6,
   "metadata": {},
   "outputs": [
    {
     "name": "stdout",
     "output_type": "stream",
     "text": [
      "[{'summary_text': 'The Supreme Court ruled against the admissions programs of Harvard University and the University of North Carolina in an affirmative action decision. Before the decision, race already wasn’t a factor in Drake University admissions. Financial aid programs that prioritize applicants of a particular race over another are more vulnerable.'}]\n"
     ]
    }
   ],
   "source": [
    "print(summarizer(times_delphic_story[:4000],max_length=100,min_length=50))"
   ]
  },
  {
   "cell_type": "markdown",
   "metadata": {},
   "source": [
    "### Group Exercise\n",
    "\n",
    "In this example, I only use the first 4000 characters from the article.\n",
    "\n",
    "Try using more. Why do you think I did that?\n",
    "\n",
    "What strategies can you think of for getting summaries of longer articles?"
   ]
  },
  {
   "cell_type": "markdown",
   "metadata": {
    "slideshow": {
     "slide_type": "slide"
    }
   },
   "source": [
    "## Let's try it on a different summarization dataset\n",
    "\n",
    "The *BillSum* dataset contains the text of legislative bills and their summaries from both the US Federal and California State legislatures.\n",
    "\n",
    "See more here: https://huggingface.co/datasets/billsum\n",
    "\n",
    "This dataset has `train`, `test`, and `ca_test` splits. We can load just one of them - let's try the `ca-test` which is the smaller test set.\n"
   ]
  },
  {
   "cell_type": "code",
   "execution_count": 7,
   "metadata": {},
   "outputs": [],
   "source": [
    "from datasets import load_dataset\n",
    "\n",
    "billsum = load_dataset(\"billsum\", split=\"ca_test\")"
   ]
  },
  {
   "cell_type": "markdown",
   "metadata": {
    "slideshow": {
     "slide_type": "slide"
    }
   },
   "source": [
    "## Let's explore the dataset\n",
    "\n",
    "What does it look like when printed/displayed?"
   ]
  },
  {
   "cell_type": "code",
   "execution_count": 8,
   "metadata": {
    "slideshow": {
     "slide_type": "fragment"
    }
   },
   "outputs": [
    {
     "name": "stdout",
     "output_type": "stream",
     "text": [
      "Dataset({\n",
      "    features: ['text', 'summary', 'title'],\n",
      "    num_rows: 1237\n",
      "})\n"
     ]
    }
   ],
   "source": [
    "print(billsum)"
   ]
  },
  {
   "cell_type": "markdown",
   "metadata": {
    "slideshow": {
     "slide_type": "fragment"
    }
   },
   "source": [
    "What does one of the items look like?"
   ]
  },
  {
   "cell_type": "code",
   "execution_count": 9,
   "metadata": {},
   "outputs": [
    {
     "data": {
      "text/plain": [
       "{'text': 'The people of the State of California do enact as follows:\\n\\n\\nSECTION 1.\\nThe Legislature finds and declares all of the following:\\n(a) (1) Since 1899 congressionally chartered veterans’ organizations have provided a valuable service to our nation’s returning service members. These organizations help preserve the memories and incidents of the great hostilities fought by our nation, and preserve and strengthen comradeship among members.\\n(2) These veterans’ organizations also own and manage various properties including lodges, posts, and fraternal halls. These properties act as a safe haven where veterans of all ages and their families can gather together to find camaraderie and fellowship, share stories, and seek support from people who understand their unique experiences. This aids in the healing process for these returning veterans, and ensures their health and happiness.\\n(b) As a result of congressional chartering of these veterans’ organizations, the United States Internal Revenue Service created a special tax exemption for these organizations under Section 501(c)(19) of the Internal Revenue Code.\\n(c) Section 501(c)(19) of the Internal Revenue Code and related federal regulations provide for the exemption for posts or organizations of war veterans, or an auxiliary unit or society of, or a trust or foundation for, any such post or organization that, among other attributes, carries on programs to perpetuate the memory of deceased veterans and members of the Armed Forces and to comfort their survivors, conducts programs for religious, charitable, scientific, literary, or educational purposes, sponsors or participates in activities of a patriotic nature, and provides social and recreational activities for their members.\\n(d) Section 215.1 of the Revenue and Taxation Code stipulates that all buildings, support and so much of the real property on which the buildings are situated as may be required for the convenient use and occupation of the buildings, used exclusively for charitable purposes, owned by a veterans’ organization that has been chartered by the Congress of the United States, organized and operated for charitable purposes, when the same are used solely and exclusively for the purpose of the organization, if not conducted for profit and no part of the net earnings of which ensures to the benefit of any private individual or member thereof, are exempt from taxation.\\n(e) The Chief Counsel of the State Board of Equalization concluded, based on a 1979 appellate court decision, that only parts of American Legion halls are exempt from property taxation and that other parts, such as billiard rooms, card rooms, and similar areas, are not exempt.\\n(f) In a 1994 memorandum, the State Board of Equalization’s legal division further concluded that the areas normally considered eligible for exemptions are the office areas used to counsel veterans and the area used to store veterans’ records, but that the meeting hall and bar found in most of the facilities are not considered used for charitable purposes.\\n(g) Tax-exempt status is intended to provide economic incentive and support to veterans’ organizations to provide for the social welfare of the community of current and former military personnel.\\n(h) The State Board of Equalization’s constriction of the tax exemption has resulted in an onerous tax burden on California veteran service organizations posts or halls, hinders the posts’ ability to provide facilities for veterans, and threatens the economic viability of many local organizations.\\n(i) The charitable activities of a veteran service organizations post or hall are much more than the counseling of veterans. The requirements listed for qualification for the federal tax exemption clearly dictate a need for more than just an office.\\n(j) Programs to perpetuate the memory of deceased veterans and members of the Armed Forces and to comfort their survivors require the use of facilities for funerals and receptions.\\n(k) Programs for religious, charitable, scientific, literary, or educational purposes require space for more than 50 attendees.\\n(l) Activities of a patriotic nature need facilities to accommodate hundreds of people.\\n(m) Social and recreational activities for members require precisely those areas considered “not used for charitable purposes” by the State Board of Equalization.\\n(n) The State Board of Equalization’s interpretation of the Revenue and Taxation Code reflects a lack of understanding of the purpose and programs of the veterans service organizations posts or halls and is detrimental to the good works performed in support of our veteran community.\\nSECTION 1.\\nSEC. 2.\\nSection 215.1 of the Revenue and Taxation Code is amended to read:\\n215.1.\\n(a) All buildings, and so much of the real property on which the buildings are situated as may be required for the convenient use and occupation of the buildings, used exclusively for charitable purposes, owned by a veterans’ organization that has been chartered by the Congress of the United States, organized and operated for charitable purposes, and exempt from federal income tax as an organization described in Section 501(c)(19) of the Internal Revenue Code when the same are used solely and exclusively for the purpose of the organization, if not conducted for profit and no part of the net earnings of which inures to the benefit of any private individual or member thereof, shall be exempt from taxation.\\n(b) The exemption provided for in this section shall apply to the property of all organizations meeting the requirements of this section, subdivision (b) of Section 4 of Article XIII of the California Constitution, and paragraphs (1) to (4), inclusive, (6), and (7) of subdivision (a) of Section 214.\\n(c) (1) The exemption specified by subdivision (a) shall not be denied to a property on the basis that the property is used for fraternal, lodge, or social club purposes.\\n(2) With regard to this subdivision, the Legislature finds and declares all of the following:\\n(A) The exempt activities of a veterans’ organization as described in subdivision (a) qualitatively differ from the exempt activities of other nonprofit entities that use property for fraternal, lodge, or social club purposes in that the exempt purpose of the veterans’ organization is to conduct programs to perpetuate the memory of deceased veterans and members of the Armed Forces and to comfort their survivors, to conduct programs for religious, charitable, scientific, literary, or educational purposes, to sponsor or participate in activities of a patriotic nature, and to provide social and recreational activities for their members.\\n(B) In light of this distinction, the use of real property by a veterans’ organization as described in subdivision (a), for fraternal, lodge, or social club purposes is central to that organization’s exempt purposes and activities.\\n(C) In light of the factors set forth in subparagraphs (A) and (B), the use of real property by a veterans’ organization as described in subdivision (a) for fraternal, lodge, or social club purposes, constitutes the exclusive use of that property for a charitable purpose within the meaning of subdivision (b) of Section 4 of Article XIII of the California Constitution.\\n(d) The exemption provided for in this section shall not apply to any portion of a property that consists of a bar where alcoholic beverages are served. The portion of the property ineligible for the veterans’ organization exemption shall be that area used primarily to prepare and serve alcoholic beverages.\\n(e) An organization that files a claim for the exemption provided for in this section shall file with the assessor a valid organizational clearance certificate issued pursuant to Section 254.6.\\n(f) This exemption shall be known as the “veterans’ organization exemption.”\\nSEC. 2.\\nSEC. 3.\\nNotwithstanding Section 2229 of the Revenue and Taxation Code, no appropriation is made by this act and the state shall not reimburse any local agency for any property tax revenues lost by it pursuant to this act.\\nSEC. 3.\\nSEC. 4.\\nThis act provides for a tax levy within the meaning of Article IV of the Constitution and shall go into immediate effect.',\n",
       " 'summary': 'Existing property tax law establishes a veterans’ organization exemption under which property is exempt from taxation if, among other things, that property is used exclusively for charitable purposes and is owned by a veterans’ organization.\\nThis bill would provide that the veterans’ organization exemption shall not be denied to a property on the basis that the property is used for fraternal, lodge, or social club purposes, and would make specific findings and declarations in that regard. The bill would also provide that the exemption shall not apply to any portion of a property that consists of a bar where alcoholic beverages are served.\\nSection 2229 of the Revenue and Taxation Code requires the Legislature to reimburse local agencies annually for certain property tax revenues lost as a result of any exemption or classification of property for purposes of ad valorem property taxation.\\nThis bill would provide that, notwithstanding Section 2229 of the Revenue and Taxation Code, no appropriation is made and the state shall not reimburse local agencies for property tax revenues lost by them pursuant to the bill.\\nThis bill would take effect immediately as a tax levy.',\n",
       " 'title': 'An act to amend Section 215.1 of the Revenue and Taxation Code, relating to taxation, to take effect immediately, tax levy.'}"
      ]
     },
     "execution_count": 9,
     "metadata": {},
     "output_type": "execute_result"
    }
   ],
   "source": [
    "billsum[0]"
   ]
  },
  {
   "cell_type": "markdown",
   "metadata": {
    "slideshow": {
     "slide_type": "fragment"
    }
   },
   "source": [
    "Let's get a summary of the first bill (first 4000 characters of the text only) using the news-article summarizer."
   ]
  },
  {
   "cell_type": "code",
   "execution_count": 10,
   "metadata": {},
   "outputs": [
    {
     "data": {
      "text/plain": [
       "[{'summary_text': 'Since 1899 congressionally chartered veterans’ organizations have provided a valuable service to our nation’s returning service members. The U.S. Internal Revenue Service created a special tax exemption for these organizations under Section 501(c)(19) of the Internal Revenue Code.'}]"
      ]
     },
     "execution_count": 10,
     "metadata": {},
     "output_type": "execute_result"
    }
   ],
   "source": [
    "summarizer(billsum[0][\"text\"][:4000])"
   ]
  },
  {
   "cell_type": "markdown",
   "metadata": {
    "slideshow": {
     "slide_type": "subslide"
    }
   },
   "source": [
    "## Now let's do a batch of 5 articles\n",
    "\n",
    "First, we need to prepare a list that contains the texts of the first 5 bills, truncated to the first 4000 characters."
   ]
  },
  {
   "cell_type": "code",
   "execution_count": 11,
   "metadata": {},
   "outputs": [],
   "source": [
    "truncated_bill_texts = []\n",
    "for idx in range(5):\n",
    "    curr_truncated_text = billsum[idx][\"text\"][:4000]\n",
    "    truncated_bill_texts.append( curr_truncated_text )"
   ]
  },
  {
   "cell_type": "markdown",
   "metadata": {
    "slideshow": {
     "slide_type": "fragment"
    }
   },
   "source": [
    "Now let's get a summary of each of those texts. This might take a while."
   ]
  },
  {
   "cell_type": "code",
   "execution_count": 12,
   "metadata": {},
   "outputs": [
    {
     "name": "stdout",
     "output_type": "stream",
     "text": [
      "[{'summary_text': 'Since 1899 congressionally chartered veterans’ organizations have provided a valuable service to our nation’s returning service members. The U.S. Internal Revenue Service created a special tax exemption for these organizations under Section 501(c)(19) of the Internal Revenue Code.'}, {'summary_text': 'A prisoner is not eligible for resentence or recall pursuant to subdivision (e) of Section 1170 if he or she was convicted of first-degree murder if the victim was a peace officer. A prisoner sentenced to death or life in prison without possibility of parole cannot be granted medical parole.'}, {'summary_text': 'California has long been known as the land of opportunity, the republic of the future. But for too many of its residents the future is receding. Inequality continues to rise, even though California has one of the most progressive tax structures in the nation. Small businesses, like plumbing contractors, auto repair shops, and restaurants that account for over 90 percent of the state’s businesses are a key rung on the ladder of upward mobility.'}, {'summary_text': 'The Transit and Intercity Rail Capital Program is intended to modernize California’s intercity, commuter, and urban rail systems and bus and ferry transit systems. The Transportation Agency shall evaluate applications consistent with the criteria set forth in this part and approve a multiyear program of projects for funding.'}, {'summary_text': 'Section 4788 is added to the Probate Code, to read: 4788. The people of the State of California do enact as follows: \"The California POLST eRegistry Pilot Act\" \"POLST\" means a Physician Orders for Life Sustaining Treatment that fulfills the requirements of Section 4780.'}]\n",
      "['Existing property tax law establishes a veterans’ organization exemption under which property is exempt from taxation if, among other things, that property is used exclusively for charitable purposes and is owned by a veterans’ organization.\\nThis bill would provide that the veterans’ organization exemption shall not be denied to a property on the basis that the property is used for fraternal, lodge, or social club purposes, and would make specific findings and declarations in that regard. The bill would also provide that the exemption shall not apply to any portion of a property that consists of a bar where alcoholic beverages are served.\\nSection 2229 of the Revenue and Taxation Code requires the Legislature to reimburse local agencies annually for certain property tax revenues lost as a result of any exemption or classification of property for purposes of ad valorem property taxation.\\nThis bill would provide that, notwithstanding Section 2229 of the Revenue and Taxation Code, no appropriation is made and the state shall not reimburse local agencies for property tax revenues lost by them pursuant to the bill.\\nThis bill would take effect immediately as a tax levy.', 'Existing law provides that the Board of Parole Hearings or its successor in interest shall be the state’s parole authority. Existing law requires that a prisoner who is found to be permanently medically incapacitated, as specified, be granted medical parole, if the Board of Parole Hearings determines that the conditions under which the prisoner would be released would not reasonably pose a threat to public safety. Existing law exempts a prisoner sentenced to death, a prisoner sentenced to life without the possibility of parole, and a prisoner who is serving a sentence for which parole is prohibited by initiative statute, from medical parole eligibility.\\nExisting law authorizes a court to resentence or recall the sentence of a prisoner if the court finds that the prisoner is terminally ill, as specified, or the prisoner is permanently medically incapacitated, as specified, and, in either case, the conditions under which the prisoner would be released or receive treatment do not pose a threat to public safety. Existing law exempts a prisoner sentenced to death or a term of life without the possibility of parole from eligibility for compassionate release pursuant to these provisions.\\nThis bill would additionally exempt from medical parole eligibility and compassionate release eligibility a prisoner who was convicted of the first-degree murder of a peace officer or a person who had been a peace officer, as provided.', 'The Sales and Use Tax Law imposes a tax on retailers measured by the gross receipts from the sale of tangible personal property sold at retail in this state, or on the storage, use, or other consumption in this state of tangible personal property purchased from a retailer for storage, use, or other consumption in this state. The Personal Income Tax Law imposes taxes on personal taxable income at specified rates, and the Corporation Tax Law imposes taxes upon, or measured by, corporate income.\\nThis bill would state legislative findings regarding the Upward Mobility Act, key provisions of which would expand the application of the Sales and Use Tax law by imposing a tax on specified services, would enhance the state’s business climate\\nand\\n,\\nwould incentivize entrepreneurship and business creation by evaluating the\\nCorporate Tax Law,\\ncorporate tax,\\nand would examine the impacts of a lower and simpler\\nPersonal Income Tax Law.\\npersonal income tax.\\nThis bill would, on and after January 1, ___, expand the Sales and Use Tax Law to impose a tax on the gross receipts from the sale in this state of, or the receipt of the benefit in this state of services at a rate of ____%.', 'Existing law requires all moneys, except for fines and penalties, collected by the State Air Resources Board from a market-based compliance mechanism relative to reduction of greenhouse gas emissions to be deposited in the Greenhouse Gas Reduction Fund.\\nExisting law establishes the Transit and Intercity Rail Capital Program, which receives 10% of the annual proceeds of the Greenhouse Gas Reduction Fund as a continuous appropriation, to fund capital improvements and operational investments to modernize California’s rail systems to achieve certain policy objectives, including reducing greenhouse gas emissions, expanding and improving rail services to increase ridership, and improving rail safety. Existing law requires the Transportation Agency to evaluate applications for funding under the program and to prepare a list of projects recommended for funding, with grants to be awarded by the California Transportation Commission.\\nThis bill would modify the purpose of the program to delete references to operational investments and instead provide for the funding of transformative capital improvements, as defined, that will modernize California’s intercity, commuter, and urban rail systems and bus and ferry transit systems to achieve certain policy objectives, including reducing emissions of greenhouse gases, expanding and improving transit services to increase ridership, and improving transit safety. By expanding the purposes for which continuously appropriated moneys may be used, the bill would make an appropriation. The bill would modify the information required to be included in applications for grants under the program and would authorize an eligible applicant to submit an application to fund a project over multiple fiscal years and to submit multiple applications. The bill would require the Transportation Agency, in selecting projects for funding, to consider the extent to which a project reduces greenhouse gas emissions, would add additional factors to be considered in evaluating applications for funding, and would expand certain factors considered to include bus and ferry transit service. The bill would require the Transportation Agency to approve, by July 1, 2018, a 5-year program of projects, and would require the California Transportation Commission to allocate funding to eligible applicants pursuant to the program of projects, with subsequent programs of projects to be approved not later than April 1 of each even-numbered year thereafter. The bill would require the Transportation Agency, in cooperation with the California Transportation Commission and at the request of an eligible applicant, to enter into and execute a multiyear funding agreement for a project to be funded over more than one fiscal year, as specified, and would authorize the California Transportation Commission to approve a letter of no prejudice that would allow an applicant to expend its own moneys on a project in the approved program of projects, subject to future reimbursement from program moneys for eligible expenditures.', 'Existing law defines a request regarding resuscitative measures as a written document, signed by an individual with capacity, or a legally recognized health care decisionmaker, and the individual’s physician, directing a health care provider regarding resuscitative measures. Existing law defines a Physician Orders for Life Sustaining Treatment form, which is commonly referred to as a POLST form, and provides that a request regarding resuscitative measures includes a POLST form. Existing law requires that a POLST form and the medical intervention and procedures offered by the form be explained by a health care provider. Existing law distinguishes a request regarding resuscitative measures from an advance health care directive.\\nThis bill would enact the California POLST eRegistry Pilot Act. The bill would require the Emergency Medical Services Authority to establish a pilot project, in consultation with stakeholders, to operate an electronic registry system on a pilot basis, to be known as the California POLST eRegistry Pilot, for the purpose of collecting POLST information received from a physician or physician’s designee. The bill would require the authority to coordinate the POLST eRegistry Pilot, which would be operated by health information exchange networks, by an independent contractor, or by a combination thereof. The bill would require the authority to implement these provisions only after it determines that sufficient nonstate funds are available for development of the POLST eRegistry Pilot, any related startup costs, and an evaluation of the POLST eRegistry Pilot. When the POLST eRegistry Pilot is operable in the geographic area in which he or she operates or practices, a physician or physician’s designee who completes POLST information would be required to include the POLST information in the patient’s official medical record and would be required to submit a copy of the form to, or to enter the information into, the POLST eRegistry Pilot, unless a patient or his or her health care decisionmaker chooses not to participate in the POLST eRegistry Pilot. The bill would require the authority to adopt guidelines for, among other things, the operation of the POLST eRegistry Pilot, including the means by which POLST information would be submitted electronically, modified, or withdrawn, the appropriate and timely methods for dissemination of POLST form information, the procedures for verifying the identity of an authorized user, and rules for maintaining the confidentiality of POLST information received by the POLST eRegistry Pilot. The bill would require that any disclosure of POLST information in the POLST eRegistry Pilot be made in accordance with applicable state and federal privacy and security laws and regulations. The bill would provide immunity from criminal prosecution, civil liability, discipline for unprofessional conduct, and any other sanction for a health care provider who honors a patient’s request regarding resuscitative measures obtained from the POLST eRegistry Pilot, as specified. The bill would require an independent contractor approved by the authority to conduct an evaluation of the POLST eRegistry Pilot. The provisions of the bill would be operative until January 1, 2020.']\n"
     ]
    }
   ],
   "source": [
    "prediction_summaries = summarizer(truncated_bill_texts)\n",
    "actual_references = billsum[\"summary\"][0:5]\n",
    "\n",
    "print(prediction_summaries)\n",
    "print(actual_references)\n"
   ]
  },
  {
   "cell_type": "markdown",
   "metadata": {
    "slideshow": {
     "slide_type": "fragment"
    }
   },
   "source": [
    "Notice that summarizer returns a list of dictionaries with one key each: `'summary_text'`. If we want to evaluate these with ROUGE, we will need to get a flat list of all these texts - not contained inside a dictionary."
   ]
  },
  {
   "cell_type": "code",
   "execution_count": 15,
   "metadata": {},
   "outputs": [
    {
     "name": "stdout",
     "output_type": "stream",
     "text": [
      "['Since 1899 congressionally chartered veterans’ organizations have provided a valuable service to our nation’s returning service members. The U.S. Internal Revenue Service created a special tax exemption for these organizations under Section 501(c)(19) of the Internal Revenue Code.', 'A prisoner is not eligible for resentence or recall pursuant to subdivision (e) of Section 1170 if he or she was convicted of first-degree murder if the victim was a peace officer. A prisoner sentenced to death or life in prison without possibility of parole cannot be granted medical parole.', 'California has long been known as the land of opportunity, the republic of the future. But for too many of its residents the future is receding. Inequality continues to rise, even though California has one of the most progressive tax structures in the nation. Small businesses, like plumbing contractors, auto repair shops, and restaurants that account for over 90 percent of the state’s businesses are a key rung on the ladder of upward mobility.', 'The Transit and Intercity Rail Capital Program is intended to modernize California’s intercity, commuter, and urban rail systems and bus and ferry transit systems. The Transportation Agency shall evaluate applications consistent with the criteria set forth in this part and approve a multiyear program of projects for funding.', 'Section 4788 is added to the Probate Code, to read: 4788. The people of the State of California do enact as follows: \"The California POLST eRegistry Pilot Act\" \"POLST\" means a Physician Orders for Life Sustaining Treatment that fulfills the requirements of Section 4780.']\n"
     ]
    }
   ],
   "source": [
    "predictions_flat = []\n",
    "\n",
    "for result in prediction_summaries:\n",
    "    predictions_flat.append(result[\"summary_text\"])\n",
    "    \n",
    "print(predictions_flat)"
   ]
  },
  {
   "cell_type": "markdown",
   "metadata": {
    "slideshow": {
     "slide_type": "fragment"
    }
   },
   "source": [
    "and now let's compute the ROUGE metrics"
   ]
  },
  {
   "cell_type": "code",
   "execution_count": 16,
   "metadata": {},
   "outputs": [
    {
     "data": {
      "text/plain": [
       "{'rouge1': 0.17562463851685045,\n",
       " 'rouge2': 0.0758329573249116,\n",
       " 'rougeL': 0.12923816949402564,\n",
       " 'rougeLsum': 0.15101276399573574}"
      ]
     },
     "execution_count": 16,
     "metadata": {},
     "output_type": "execute_result"
    }
   ],
   "source": [
    "import evaluate\n",
    "\n",
    "rouge = evaluate.load(\"rouge\")\n",
    "\n",
    "rouge.compute(predictions=predictions_flat,references=actual_references)"
   ]
  },
  {
   "cell_type": "markdown",
   "metadata": {},
   "source": [
    "These seem to indicate there isn't a lot of overlap between the reference summaries and the predictions.\n",
    "\n",
    "Keep in mind: \n",
    "* the model was trained on a different kind of dataset\n",
    "* we are only using the first part of each bill"
   ]
  },
  {
   "cell_type": "markdown",
   "metadata": {
    "slideshow": {
     "slide_type": "slide"
    }
   },
   "source": [
    "## Applied Exploration\n",
    "\n",
    "Go to the Hugging Face models page: https://huggingface.co/models\n",
    "* Use the same model, but find two different news datasets (https://huggingface.co/datasets), and evaluate them using ROUGE metrics\n",
    "* For each dataset, record\n",
    "    - where did it come from?\n",
    "    - where did the reference summaries come from?\n",
    "    - how big is it?\n",
    "    - how big are the texts? Did you have to truncate them?\n",
    "* Evaluate the performance \n",
    "    - use the ROUGE metrics\n",
    "    - describe in your own words how it performed\n",
    "    - how did they compare to each other?\n",
    "    - how did they compare to the bills dataset?\n",
    "    - what do you think is the reason for the difference in performance that you noticed?\n",
    "    "
   ]
  },
  {
   "cell_type": "markdown",
   "metadata": {
    "slideshow": {
     "slide_type": "slide"
    }
   },
   "source": [
    "## An Idea for Creative Synthesis\n",
    "\n",
    "Write some code that lets the user type in a web address (like a Wikipedia article) and generate a summary for the whole page.\n",
    "* you will have to experiment with different ideas of how to get summaries for longer texts\n",
    "    - come up with your own ideas\n",
    "    - research how others handle it and try those\n",
    "    - you might find that combining more than one kind of model can be helpful\n",
    "\n",
    "Record your results and discuss it at the demo!"
   ]
  }
 ],
 "metadata": {
  "celltoolbar": "Slideshow",
  "colab": {
   "authorship_tag": "ABX9TyOf2oi4GbgdvkO0orSdgZtQ",
   "provenance": []
  },
  "kernelspec": {
   "display_name": "Python 3 (ipykernel)",
   "language": "python",
   "name": "python3"
  },
  "language_info": {
   "codemirror_mode": {
    "name": "ipython",
    "version": 3
   },
   "file_extension": ".py",
   "mimetype": "text/x-python",
   "name": "python",
   "nbconvert_exporter": "python",
   "pygments_lexer": "ipython3",
   "version": "3.10.6"
  }
 },
 "nbformat": 4,
 "nbformat_minor": 1
}
