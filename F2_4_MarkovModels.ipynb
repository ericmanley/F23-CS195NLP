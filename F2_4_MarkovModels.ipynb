{
 "cells": [
  {
   "cell_type": "markdown",
   "metadata": {
    "id": "C192SOmJS6lw",
    "slideshow": {
     "slide_type": "slide"
    }
   },
   "source": [
    "# CS 195: Natural Language Processing\n",
    "## Markov Models\n",
    "\n",
    "[![Open In Colab](https://colab.research.google.com/assets/colab-badge.svg)](https://colab.research.google.com/github/ericmanley/f23-CS195NLP/blob/main/F2_4_MarkovModels.ipynb)\n"
   ]
  },
  {
   "cell_type": "markdown",
   "metadata": {
    "slideshow": {
     "slide_type": "slide"
    }
   },
   "source": [
    "## References\n",
    "\n",
    "Markov chain on Wikipedia: https://en.wikipedia.org/wiki/Markov_chain\n",
    "\n",
    "NLTK Book Chapter 2: Accessing Text Corpora and Lexical Resources https://www.nltk.org/book/ch02.html\n",
    "\n",
    "What is ChatGPT Doing and Why Does it Work? By Stephen Wolfram: https://writings.stephenwolfram.com/2023/02/what-is-chatgpt-doing-and-why-does-it-work/\n",
    "* This is a fascinating article that covers a lot of NLP topics. The opening motivates text generation with Markov-like descriptions."
   ]
  },
  {
   "cell_type": "code",
   "execution_count": 1,
   "metadata": {},
   "outputs": [],
   "source": [
    "#you shouldn't need to do this in Colab, but I had to do it on my own machine\n",
    "#in order to connect to the nltk service\n",
    "import nltk\n",
    "import ssl\n",
    "\n",
    "try:\n",
    "    _create_unverified_https_context = ssl._create_unverified_context\n",
    "except AttributeError:\n",
    "    pass\n",
    "else:\n",
    "    ssl._create_default_https_context = _create_unverified_https_context\n"
   ]
  },
  {
   "cell_type": "markdown",
   "metadata": {
    "slideshow": {
     "slide_type": "slide"
    }
   },
   "source": [
    "## Andrey Andreyevich Markov\n",
    "\n",
    "<div>\n",
    "<img src=\"images/Andrei_Markov.jpg\" width=\"200\"/>\n",
    "</div>\n",
    "\n",
    "image source: https://en.wikipedia.org/wiki/Andrey_Markov"
   ]
  },
  {
   "cell_type": "markdown",
   "metadata": {
    "slideshow": {
     "slide_type": "slide"
    }
   },
   "source": [
    "## Markov Chain\n",
    "\n",
    "A **Markov Chain** describes a sequence of possible events and the probabilities of transitioning from one event state to another.\n",
    "\n",
    "It can be applied to text - what is the probability that one word follows another?\n",
    "\n",
    "Here is a diagram which corresponds to this text:\n",
    "\n",
    "`\"I code when I am happy. I am happy therefore I code.\"`\n",
    "\n",
    "<div>\n",
    "<img src=\"images/happy_markov_model.png\"/>\n",
    "</div>\n"
   ]
  },
  {
   "cell_type": "markdown",
   "metadata": {
    "slideshow": {
     "slide_type": "subslide"
    }
   },
   "source": [
    "## Shakespeare Example\n",
    "\n",
    "To be, or not to be, that is the question:\n",
    "Whether 'tis nobler in the mind to suffer\n",
    "The slings and arrows of outrageous fortune,\n",
    "Or to take Arms against a Sea of troubles\n",
    "\n",
    "<div>\n",
    "<img src=\"images/to_be_markov_model.png\"/>\n",
    "</div>\n",
    "\n",
    "Transitions here are shown as frequencies instead of probabilities.\n",
    "\n"
   ]
  },
  {
   "cell_type": "markdown",
   "metadata": {
    "slideshow": {
     "slide_type": "slide"
    }
   },
   "source": [
    "## Demo: Let's see how we can construct the model for this text\n",
    "\n",
    "`\"I code when I am happy. I am happy therefore I code.\"`"
   ]
  },
  {
   "cell_type": "markdown",
   "metadata": {
    "slideshow": {
     "slide_type": "fragment"
    }
   },
   "source": [
    "We want to represent this model in a data structure - could use 2D-list/matrix or a nested dictionary\n",
    "\n",
    "Nested dictionary representation\n",
    "\n",
    "\n",
    "`{\n",
    " 'I': {'am': 2, 'code': 2},\n",
    " 'code': {'.': 1, 'when': 1},\n",
    " 'when': {'I': 1}\n",
    " 'am': {'happy': 2},\n",
    " 'happy': {'.': 1, 'therefore': 1},\n",
    " 'therefore': {'I': 1},\n",
    " '.': {'I': 1},\n",
    "}`\n"
   ]
  },
  {
   "cell_type": "markdown",
   "metadata": {
    "slideshow": {
     "slide_type": "slide"
    }
   },
   "source": [
    "## Digression: Let's talk about those dictionaries\n",
    "\n",
    "\n",
    "We could use a regular ol dictionary for this. But if you want to use a dictionary to count how many times you see a word, there's something that is kind of annoying about them:\n"
   ]
  },
  {
   "cell_type": "code",
   "execution_count": 2,
   "metadata": {},
   "outputs": [
    {
     "ename": "KeyError",
     "evalue": "'chicken'",
     "output_type": "error",
     "traceback": [
      "\u001b[0;31m---------------------------------------------------------------------------\u001b[0m",
      "\u001b[0;31mKeyError\u001b[0m                                  Traceback (most recent call last)",
      "Input \u001b[0;32mIn [2]\u001b[0m, in \u001b[0;36m<cell line: 5>\u001b[0;34m()\u001b[0m\n\u001b[1;32m      1\u001b[0m regular_dict \u001b[38;5;241m=\u001b[39m {}\n\u001b[1;32m      3\u001b[0m \u001b[38;5;66;03m#...\u001b[39;00m\n\u001b[1;32m      4\u001b[0m \u001b[38;5;66;03m# I saw \"chicken\", so let's add on to the \"chicken\" counter\u001b[39;00m\n\u001b[0;32m----> 5\u001b[0m regular_dict[\u001b[38;5;124m\"\u001b[39m\u001b[38;5;124mchicken\u001b[39m\u001b[38;5;124m\"\u001b[39m] \u001b[38;5;241m+\u001b[39m\u001b[38;5;241m=\u001b[39m \u001b[38;5;241m1\u001b[39m\n",
      "\u001b[0;31mKeyError\u001b[0m: 'chicken'"
     ]
    }
   ],
   "source": [
    "regular_dict = {}\n",
    "\n",
    "#...\n",
    "# I saw \"chicken\", so let's add on to the \"chicken\" counter\n",
    "regular_dict[\"chicken\"] += 1"
   ]
  },
  {
   "cell_type": "markdown",
   "metadata": {
    "slideshow": {
     "slide_type": "fragment"
    }
   },
   "source": [
    "but it might not already be in the dictionary, so you have to do something like this:"
   ]
  },
  {
   "cell_type": "code",
   "execution_count": 3,
   "metadata": {},
   "outputs": [
    {
     "name": "stdout",
     "output_type": "stream",
     "text": [
      "1\n"
     ]
    }
   ],
   "source": [
    "if \"chicken\" in regular_dict:\n",
    "    regular_dict[\"chicken\"] += 1\n",
    "else:\n",
    "    regular_dict[\"chicken\"] = 1\n",
    "    \n",
    "print(regular_dict[\"chicken\"])"
   ]
  },
  {
   "cell_type": "markdown",
   "metadata": {},
   "source": [
    "It would be great if it just assumed a missing value was 0 instead of throwing an error!\n",
    "\n",
    "That's what a `defaultdict` does:"
   ]
  },
  {
   "cell_type": "code",
   "execution_count": 4,
   "metadata": {},
   "outputs": [
    {
     "name": "stdout",
     "output_type": "stream",
     "text": [
      "1\n"
     ]
    }
   ],
   "source": [
    "from collections import defaultdict\n",
    "\n",
    "my_ddict = defaultdict(int) #we're going to put ints in there - this tells it to make 0 the default\n",
    "\n",
    "my_ddict[\"chicken\"] += 1\n",
    "\n",
    "print(my_ddict[\"chicken\"])"
   ]
  },
  {
   "cell_type": "markdown",
   "metadata": {
    "slideshow": {
     "slide_type": "fragment"
    }
   },
   "source": [
    "👍"
   ]
  },
  {
   "cell_type": "markdown",
   "metadata": {
    "slideshow": {
     "slide_type": "slide"
    }
   },
   "source": [
    "## Training a Markov Model\n",
    "\n",
    "Before we start training our model, let's make a list the **tokens** - all of the words, punctuation, and other things we want to be the states of the model. \n",
    "\n",
    "You can use the string `split` method for this:\n"
   ]
  },
  {
   "cell_type": "code",
   "execution_count": 5,
   "metadata": {},
   "outputs": [
    {
     "name": "stdout",
     "output_type": "stream",
     "text": [
      "['I', 'code', 'when', 'I', 'am', 'happy', '.', 'I', 'am', 'happy', 'therefore', 'I', 'code', '.']\n"
     ]
    }
   ],
   "source": [
    "text = \"I code when I am happy . I am happy therefore I code . \"\n",
    "text_tokens = text.split()\n",
    "\n",
    "print(text_tokens)"
   ]
  },
  {
   "cell_type": "markdown",
   "metadata": {
    "slideshow": {
     "slide_type": "fragment"
    }
   },
   "source": [
    "Now let's build the model using this list"
   ]
  },
  {
   "cell_type": "code",
   "execution_count": 6,
   "metadata": {},
   "outputs": [
    {
     "name": "stdout",
     "output_type": "stream",
     "text": [
      "defaultdict(<function <lambda> at 0x2967e3d00>,\n",
      "            {'.': defaultdict(<class 'int'>, {'I': 1}),\n",
      "             'I': defaultdict(<class 'int'>, {'code': 2, 'am': 2}),\n",
      "             'am': defaultdict(<class 'int'>, {'happy': 2}),\n",
      "             'code': defaultdict(<class 'int'>, {'when': 1, '.': 1}),\n",
      "             'happy': defaultdict(<class 'int'>, {'.': 1, 'therefore': 1}),\n",
      "             'therefore': defaultdict(<class 'int'>, {'I': 1}),\n",
      "             'when': defaultdict(<class 'int'>, {'I': 1})})\n"
     ]
    }
   ],
   "source": [
    "from collections import defaultdict\n",
    "from pprint import pprint\n",
    "\n",
    "# this is our dictionary of dictionaries - \n",
    "# lambda: defaultdict(int) just means I want a bunch of defaultdicts of ints\n",
    "transition_counts = defaultdict(lambda: defaultdict(int))\n",
    "\n",
    "for idx in range(len(text_tokens)-1):\n",
    "    current_token = text_tokens[idx]\n",
    "    next_token = text_tokens[idx+1]\n",
    "    transition_counts[current_token][next_token] += 1\n",
    "\n",
    "    \n",
    "pprint(transition_counts)"
   ]
  },
  {
   "cell_type": "markdown",
   "metadata": {
    "slideshow": {
     "slide_type": "slide"
    }
   },
   "source": [
    "## Let's make this into a function\n",
    "\n",
    "I'll call the list of tokens **corpus** - which is another word for a body of text you use to train a model\n"
   ]
  },
  {
   "cell_type": "code",
   "execution_count": 16,
   "metadata": {},
   "outputs": [
    {
     "name": "stdout",
     "output_type": "stream",
     "text": [
      "defaultdict(<function train_markov_model.<locals>.<lambda> at 0x2967e3b50>,\n",
      "            {\"'tis\": defaultdict(<class 'int'>, {'nobler': 1}),\n",
      "             ',': defaultdict(<class 'int'>, {'or': 2, 'that': 1}),\n",
      "             ':': defaultdict(<class 'int'>, {'whether': 1}),\n",
      "             'a': defaultdict(<class 'int'>, {'sea': 1}),\n",
      "             'against': defaultdict(<class 'int'>, {'a': 1}),\n",
      "             'and': defaultdict(<class 'int'>, {'arrows': 1}),\n",
      "             'arms': defaultdict(<class 'int'>, {'against': 1}),\n",
      "             'arrows': defaultdict(<class 'int'>, {'of': 1}),\n",
      "             'be': defaultdict(<class 'int'>, {',': 2}),\n",
      "             'fortune': defaultdict(<class 'int'>, {',': 1}),\n",
      "             'in': defaultdict(<class 'int'>, {'the': 1}),\n",
      "             'is': defaultdict(<class 'int'>, {'the': 1}),\n",
      "             'mind': defaultdict(<class 'int'>, {'to': 1}),\n",
      "             'nobler': defaultdict(<class 'int'>, {'in': 1}),\n",
      "             'not': defaultdict(<class 'int'>, {'to': 1}),\n",
      "             'of': defaultdict(<class 'int'>, {'outrageous': 1, 'troubles': 1}),\n",
      "             'or': defaultdict(<class 'int'>, {'not': 1, 'to': 1}),\n",
      "             'outrageous': defaultdict(<class 'int'>, {'fortune': 1}),\n",
      "             'question': defaultdict(<class 'int'>, {':': 1}),\n",
      "             'sea': defaultdict(<class 'int'>, {'of': 1}),\n",
      "             'slings': defaultdict(<class 'int'>, {'and': 1}),\n",
      "             'suffer': defaultdict(<class 'int'>, {'the': 1}),\n",
      "             'take': defaultdict(<class 'int'>, {'arms': 1}),\n",
      "             'that': defaultdict(<class 'int'>, {'is': 1}),\n",
      "             'the': defaultdict(<class 'int'>,\n",
      "                                {'mind': 1,\n",
      "                                 'question': 1,\n",
      "                                 'slings': 1}),\n",
      "             'to': defaultdict(<class 'int'>,\n",
      "                               {'be': 2,\n",
      "                                'suffer': 1,\n",
      "                                'take': 1}),\n",
      "             'troubles': defaultdict(<class 'int'>, {',': 1}),\n",
      "             'whether': defaultdict(<class 'int'>, {\"'tis\": 1})})\n"
     ]
    }
   ],
   "source": [
    "def train_markov_model(corpus):\n",
    "    # this is our dictionary of dictionaries - \n",
    "    # lambda: defaultdict(int) just means I want a bunch of defaultdicts of ints\n",
    "    transition_counts = defaultdict(lambda: defaultdict(int))\n",
    "\n",
    "    for idx in range(len(corpus)-1):\n",
    "        current_token = corpus[idx]\n",
    "        next_token = corpus[idx+1]\n",
    "        transition_counts[current_token][next_token] += 1\n",
    "    \n",
    "    return transition_counts\n",
    "\n",
    "to_be = \"To be , or not to be , that is the question : Whether 'tis nobler in the mind to suffer The slings and arrows of outrageous fortune , Or to take Arms against a Sea of troubles ,\"\n",
    "to_be_tokens = to_be.lower().split() #convert to lowercase and break apart by spaces into a list\n",
    "to_be_model = train_markov_model(to_be_tokens)\n",
    "\n",
    "pprint(to_be_model)"
   ]
  },
  {
   "cell_type": "markdown",
   "metadata": {
    "slideshow": {
     "slide_type": "fragment"
    }
   },
   "source": [
    "## How can we use this model?\n",
    "\n",
    "We could now make a prediction about the next word in a sequence - like predictive text keyboards\n",
    "\n",
    "<div>\n",
    "<img src=\"images/predictive_text.png\"/ width=300>\n",
    "</div>"
   ]
  },
  {
   "cell_type": "markdown",
   "metadata": {
    "slideshow": {
     "slide_type": "subslide"
    }
   },
   "source": [
    "### How can we generate a good random *next* word after \"to\"\n",
    "\n",
    "Notice this part of the model:\n",
    "\n",
    "`\n",
    "'to': defaultdict(<class 'int'>,\n",
    "    {'be': 2,\n",
    "    'suffer': 1,\n",
    "    'take': 1}),\n",
    "`\n",
    "\n",
    "So when we see \"to\", we could\n",
    "* always predict \"be\"\n",
    "* randomly predict based on these possibilities\n",
    "    * generate a random int between 1 and 4\n",
    "        - 1: predict \"be\"\n",
    "        - 2: predict \"be\"\n",
    "        - 3: predict \"suffer\"\n",
    "        - 4: predict \"take\"\n",
    "    * words that appear after \"to\" more often a picked more often\n",
    "    * generates more interesting text than always picking the highest-ranked choice"
   ]
  },
  {
   "cell_type": "markdown",
   "metadata": {
    "slideshow": {
     "slide_type": "subslide"
    }
   },
   "source": [
    "### coding it up"
   ]
  },
  {
   "cell_type": "code",
   "execution_count": 17,
   "metadata": {},
   "outputs": [
    {
     "name": "stdout",
     "output_type": "stream",
     "text": [
      "take\n",
      "take\n",
      "be\n",
      "take\n",
      "be\n",
      "be\n",
      "be\n",
      "be\n",
      "be\n",
      "suffer\n"
     ]
    }
   ],
   "source": [
    "import random\n",
    "\n",
    "def generate_random_next_word(current_word, transition_counts):\n",
    "    #get the frequency of all words that come after current_word\n",
    "    possible_words_counts = transition_counts[current_word]\n",
    "    \n",
    "    #count up the total of all words that come after current_word\n",
    "    total_occurrences = sum(possible_words_counts.values())\n",
    "    \n",
    "    #we are going to select one occurence randomly\n",
    "    random_num = random.randint(1,total_occurrences)\n",
    "\n",
    "    #subtract words counts from our random number until we hit 0\n",
    "    #this will hit more frequent words proportionally more often\n",
    "    for word in possible_words_counts:\n",
    "        random_num = random_num - possible_words_counts[word]\n",
    "        if random_num <= 0:\n",
    "            return word\n",
    "        \n",
    "print( generate_random_next_word(\"to\",to_be_model)  )\n",
    "print( generate_random_next_word(\"to\",to_be_model)  )\n",
    "print( generate_random_next_word(\"to\",to_be_model)  )\n",
    "print( generate_random_next_word(\"to\",to_be_model)  )\n",
    "print( generate_random_next_word(\"to\",to_be_model)  )\n",
    "print( generate_random_next_word(\"to\",to_be_model)  )\n",
    "print( generate_random_next_word(\"to\",to_be_model)  )\n",
    "print( generate_random_next_word(\"to\",to_be_model)  )\n",
    "print( generate_random_next_word(\"to\",to_be_model)  )\n",
    "print( generate_random_next_word(\"to\",to_be_model)  )"
   ]
  },
  {
   "cell_type": "markdown",
   "metadata": {
    "slideshow": {
     "slide_type": "slide"
    }
   },
   "source": [
    "## Generating a whole bunch of text\n",
    "\n",
    "Now we can write a function that successively calls `generate_random_next_word` to generate a whole sequence of words"
   ]
  },
  {
   "cell_type": "code",
   "execution_count": 18,
   "metadata": {},
   "outputs": [
    {
     "name": "stdout",
     "output_type": "stream",
     "text": [
      "to be , or not to suffer the question : whether 'tis nobler in the mind to be , that is the question : whether 'tis nobler in the slings and \n"
     ]
    }
   ],
   "source": [
    "def generate_text(num,start_word,model):\n",
    "    #a running string to build on with random words\n",
    "    markov_text = start_word + \" \"\n",
    "    curr_word = start_word\n",
    "\n",
    "    #add num random words onto our running string\n",
    "    for n in range(num):\n",
    "        curr_word = generate_random_next_word(curr_word,model)\n",
    "        markov_text += curr_word \n",
    "        markov_text += \" \"\n",
    "\n",
    "    return markov_text\n",
    "\n",
    "print( generate_text(30, \"to\", to_be_model) )"
   ]
  },
  {
   "cell_type": "markdown",
   "metadata": {
    "slideshow": {
     "slide_type": "fragment"
    }
   },
   "source": [
    "This text superficially looks like the training text, but it is nonsense.\n",
    "\n",
    "Two ways you can improve it:\n",
    "1. Train it with more text\n",
    "2. Use more than one word to predict the next word - needs to see lots of examples"
   ]
  },
  {
   "cell_type": "markdown",
   "metadata": {
    "slideshow": {
     "slide_type": "slide"
    }
   },
   "source": [
    "## Putting it all together\n"
   ]
  },
  {
   "cell_type": "code",
   "execution_count": 19,
   "metadata": {},
   "outputs": [
    {
     "name": "stdout",
     "output_type": "stream",
     "text": [
      "{\"'tis\": {'nobler': 1},\n",
      " ',': {'or': 2, 'that': 1},\n",
      " ':': {'whether': 1},\n",
      " 'a': {'sea': 1},\n",
      " 'against': {'a': 1},\n",
      " 'and': {'arrows': 1},\n",
      " 'arms': {'against': 1},\n",
      " 'arrows': {'of': 1},\n",
      " 'be': {',': 2},\n",
      " 'fortune': {',': 1},\n",
      " 'in': {'the': 1},\n",
      " 'is': {'the': 1},\n",
      " 'mind': {'to': 1},\n",
      " 'nobler': {'in': 1},\n",
      " 'not': {'to': 1},\n",
      " 'of': {'outrageous': 1, 'troubles': 1},\n",
      " 'or': {'not': 1, 'to': 1},\n",
      " 'outrageous': {'fortune': 1},\n",
      " 'question': {':': 1},\n",
      " 'sea': {'of': 1},\n",
      " 'slings': {'and': 1},\n",
      " 'suffer': {'the': 1},\n",
      " 'take': {'arms': 1},\n",
      " 'that': {'is': 1},\n",
      " 'the': {'mind': 1, 'question': 1, 'slings': 1},\n",
      " 'to': {'be': 2, 'suffer': 1, 'take': 1},\n",
      " 'whether': {\"'tis\": 1}}\n"
     ]
    }
   ],
   "source": [
    "from nltk.corpus import gutenberg\n",
    "from collections import defaultdict\n",
    "import networkx as nx\n",
    "import matplotlib.pyplot as plt\n",
    "import random\n",
    "from pprint import pformat\n",
    "\n",
    "class MarkovModel:\n",
    "    \n",
    "    def __init__(self):\n",
    "        # empty nested dictionary mapping words to words to ints\n",
    "        self.transition_counts = defaultdict(lambda: defaultdict(int))\n",
    "        \n",
    "    def train(self,corpus):\n",
    "        #loop through each word in the corpus record the next word\n",
    "        #in its frequency dictionary\n",
    "        for idx in range(len(corpus)-1):\n",
    "            current_token = corpus[idx]\n",
    "            next_token = corpus[idx+1]\n",
    "            self.transition_counts[current_token][next_token] += 1\n",
    "            \n",
    "    def generate_random_next_word(self,current_word):\n",
    "        #get the frequency of all words that come after current_word\n",
    "        possible_words_counts = self.transition_counts[current_word]\n",
    "        #count up the total of all words that come after current_word\n",
    "        total_occurrences = sum(possible_words_counts.values())\n",
    "\n",
    "        #we are going to select one occurence randomly\n",
    "        random_num = random.randint(1,total_occurrences)\n",
    "\n",
    "        #subtract words counts from our random number until we hit 0\n",
    "        #this will hit more frequent words proportionally more often\n",
    "        for word in possible_words_counts:\n",
    "            random_num = random_num - possible_words_counts[word]\n",
    "            if random_num <= 0:\n",
    "                return word\n",
    "           \n",
    "    def generate_text(self,num=100,start_word = \"I\"):\n",
    "        #a running string to build on with random words\n",
    "        markov_text = start_word + \" \"\n",
    "        curr_word = start_word\n",
    "        \n",
    "        #add num random words onto our running string\n",
    "        for n in range(num):\n",
    "            curr_word = self.generate_random_next_word(curr_word)\n",
    "            markov_text += curr_word \n",
    "            markov_text += \" \"\n",
    "            \n",
    "        return markov_text\n",
    "    \n",
    "    def __str__(self):\n",
    "        # convert defaultdicts to dicts and format using the pprint formatter\n",
    "        return pformat({key:dict(self.transition_counts[key]) for key in self.transition_counts})\n",
    "    \n",
    "    def visualize(self,probabilities=False,layout=nx.kamada_kawai_layout):\n",
    "        # use this method to generate visualizations of small models\n",
    "        # it will take too long on large texts - don't do it!\n",
    "        G = nx.DiGraph()\n",
    "        \n",
    "        if probabilities:\n",
    "            transition_probabilities = defaultdict(dict)\n",
    "            for current_word, next_words in self.transition_counts.items():\n",
    "                total_occurrences = sum(next_words.values())\n",
    "                for next_word, count in next_words.items():\n",
    "                    transition_probabilities[current_word][next_word] = count / total_occurrences\n",
    "                    \n",
    "            for current_word, next_words in transition_probabilities.items():\n",
    "                for next_word, probability in next_words.items():\n",
    "                    G.add_edge(current_word, next_word, weight=probability)\n",
    "        else:\n",
    "            for current_word, next_words in self.transition_counts.items():\n",
    "                for next_word, count in next_words.items():\n",
    "                    G.add_edge(current_word, next_word, weight=count)\n",
    "\n",
    "        pos = layout(G)\n",
    "        edge_labels = {edge: f\"{G.edges[edge]['weight']}\" for edge in G.edges()}\n",
    "        nx.draw(G, pos, with_labels=True, node_size=500, node_color='lightblue', font_size=10)\n",
    "        nx.draw_networkx_edge_labels(G, pos, edge_labels=edge_labels)\n",
    "\n",
    "        plt.title(\"Markov Model Visualization\")\n",
    "        plt.show()\n",
    "        \n",
    "to_be = \"To be , or not to be , that is the question : Whether 'tis nobler in the mind to suffer The slings and arrows of outrageous fortune , Or to take Arms against a Sea of troubles\"\n",
    "to_be_tokens = to_be.lower().split() #convert to lowercase and break apart by spaces into a list\n",
    "to_be_model = MarkovModel()\n",
    "to_be_model.train(to_be_tokens)\n",
    "\n",
    "print(to_be_model)"
   ]
  },
  {
   "cell_type": "markdown",
   "metadata": {
    "slideshow": {
     "slide_type": "slide"
    }
   },
   "source": [
    "## Downloading a corpus from the `nltk` library\n",
    "\n",
    "`nltk` is the Natural Language Toolkit - lots of great corpora, algorithms, and other resources\n",
    "\n",
    "They have a sample of free books from [Project Gutenberg](https://www.gutenberg.org/)\n",
    "\n",
    "You can find a list of the available corpora here: https://www.nltk.org/nltk_data/"
   ]
  },
  {
   "cell_type": "code",
   "execution_count": 20,
   "metadata": {},
   "outputs": [
    {
     "name": "stdout",
     "output_type": "stream",
     "text": [
      "['austen-emma.txt', 'austen-persuasion.txt', 'austen-sense.txt', 'bible-kjv.txt', 'blake-poems.txt', 'bryant-stories.txt', 'burgess-busterbrown.txt', 'carroll-alice.txt', 'chesterton-ball.txt', 'chesterton-brown.txt', 'chesterton-thursday.txt', 'edgeworth-parents.txt', 'melville-moby_dick.txt', 'milton-paradise.txt', 'shakespeare-caesar.txt', 'shakespeare-hamlet.txt', 'shakespeare-macbeth.txt', 'whitman-leaves.txt']\n"
     ]
    },
    {
     "name": "stderr",
     "output_type": "stream",
     "text": [
      "[nltk_data] Downloading package gutenberg to\n",
      "[nltk_data]     /Users/000794593/nltk_data...\n",
      "[nltk_data]   Package gutenberg is already up-to-date!\n"
     ]
    }
   ],
   "source": [
    "import nltk\n",
    "nltk.download('gutenberg') # you probably only need to do this once\n",
    "print( nltk.corpus.gutenberg.fileids() )"
   ]
  },
  {
   "cell_type": "markdown",
   "metadata": {
    "slideshow": {
     "slide_type": "fragment"
    }
   },
   "source": [
    "Let's try Moby Dick"
   ]
  },
  {
   "cell_type": "code",
   "execution_count": 21,
   "metadata": {},
   "outputs": [
    {
     "name": "stdout",
     "output_type": "stream",
     "text": [
      "['[', 'Moby', 'Dick', 'by', 'Herman', 'Melville', ...]\n"
     ]
    }
   ],
   "source": [
    "from nltk.corpus import gutenberg\n",
    "moby_dick = gutenberg.words('melville-moby_dick.txt')\n",
    "print(moby_dick) "
   ]
  },
  {
   "cell_type": "markdown",
   "metadata": {},
   "source": [
    "This will only print truncated output, but it's the whole book!\n",
    "\n",
    "This is a list of tokens - exactly what we need!"
   ]
  },
  {
   "cell_type": "code",
   "execution_count": 27,
   "metadata": {
    "slideshow": {
     "slide_type": "fragment"
    }
   },
   "outputs": [
    {
     "name": "stdout",
     "output_type": "stream",
     "text": [
      "{'!': {'\"': 19,\n",
      "       \"'\": 4,\n",
      "       '(': 6,\n",
      "       '2ND': 1,\n",
      "       '4TH': 1,\n",
      "       'A': 6,\n",
      "       'ALL': 3,\n",
      "       'AZORE': 1,\n",
      "       'Accursed': 1,\n",
      "       'Adieu': 1,\n",
      "       'Adverse': 1,\n",
      "       'After': 1,\n",
      "       'Again': 1,\n",
      "       'Ah': 1,\n",
      "       'Ahab': 3,\n",
      "       'Ain': 1,\n",
      "       'All': 5,\n",
      "       'Aloft': 2,\n",
      "       'An': 1,\n",
      "       'And': 16,\n",
      "       'Angels': 1,\n",
      "       'Another': 1,\n",
      "       'Are': 2,\n",
      "       'Away': 3,\n",
      "       'Aye': 5,\n",
      "       'BELFAST': 1,\n",
      "       'Bang': 1,\n",
      "       'Beach': 1,\n",
      "       'Bear': 2,\n",
      "       'Begone': 1,\n",
      "       'Besides': 1,\n",
      "       'Bestow': 1,\n",
      "       'Beware': 4,\n",
      "       'Bible': 1,\n",
      "       'Bildad': 1,\n",
      "       'Blang': 1,\n",
      "       'Blind': 1,\n",
      "       'Blood': 1,\n",
      "       'Boat': 1,\n",
      "       'Boats': 1,\n",
      "       'Bulkington': 1,\n",
      "       'Burst': 1,\n",
      "       'But': 24,\n",
      "       'By': 3,\n",
      "       'CHAPTER': 17,\n",
      "       'Call': 2,\n",
      "       'Can': 2,\n",
      "       'Cant': 1,\n",
      "       'Capting': 1,\n",
      "       'Careful': 1,\n",
      "       'Caught': 1,\n",
      "       'Coffin': 1,\n",
      "       'Cold': 1,\n",
      "       'Come': 4,\n",
      "       'Cook': 1,\n",
      "       'Crish': 1,\n",
      "       'Cross': 1,\n",
      "       'Curse': 1,\n",
      "       'Cursed': 1,\n",
      "       'D': 2,\n",
      "       'DUTCH': 1,\n",
      "       'Damn': 1,\n",
      "       'Dash': 1,\n",
      "       'Death': 2,\n",
      "       'Despatch': 1,\n",
      "       'Did': 2,\n",
      "       'Ding': 2,\n",
      "       'Do': 3,\n",
      "       'Does': 1,\n",
      "       'Dog': 1,\n",
      "       'Don': 4,\n",
      "       'Dost': 1,\n",
      "       'Dough': 1,\n",
      "       'Down': 2,\n",
      "       'Drive': 1,\n",
      "       'Dry': 1,\n",
      "       'Duck': 1,\n",
      "       'ENGLISH': 2,\n",
      "       'EXTRACTS': 1,\n",
      "       'Easy': 1,\n",
      "       'Eight': 2,\n",
      "       'Ex': 1,\n",
      "       'Farewell': 1,\n",
      "       'Finally': 1,\n",
      "       'Flask': 1,\n",
      "       'For': 12,\n",
      "       'Forty': 2,\n",
      "       'Friends': 1,\n",
      "       'From': 1,\n",
      "       'Future': 1,\n",
      "       'Gabriel': 1,\n",
      "       'Give': 3,\n",
      "       'God': 6,\n",
      "       'Good': 2,\n",
      "       'Great': 1,\n",
      "       'Guinea': 1,\n",
      "       'Ha': 1,\n",
      "       'Had': 1,\n",
      "       'Hand': 1,\n",
      "       'Hard': 1,\n",
      "       'Hark': 2,\n",
      "       'Hast': 1,\n",
      "       'Haul': 1,\n",
      "       'Have': 1,\n",
      "       'He': 4,\n",
      "       'Heave': 1,\n",
      "       'Here': 6,\n",
      "       'High': 1,\n",
      "       'His': 2,\n",
      "       'Hish': 1,\n",
      "       'Ho': 2,\n",
      "       'Hold': 1,\n",
      "       'Hoot': 1,\n",
      "       'How': 9,\n",
      "       'Humph': 1,\n",
      "       'Hurrah': 4,\n",
      "       'I': 55,\n",
      "       'ICELAND': 1,\n",
      "       'If': 3,\n",
      "       'Improving': 1,\n",
      "       'In': 7,\n",
      "       'Instantly': 1,\n",
      "       'Insufferable': 1,\n",
      "       'Invisible': 1,\n",
      "       'Io': 1,\n",
      "       'Is': 1,\n",
      "       'It': 11,\n",
      "       'Jenny': 1,\n",
      "       'Jerk': 1,\n",
      "       'Jimmini': 1,\n",
      "       'Jonah': 1,\n",
      "       'Jump': 1,\n",
      "       'Jumped': 1,\n",
      "       'Just': 1,\n",
      "       'Kee': 1,\n",
      "       'Keep': 2,\n",
      "       'Kick': 1,\n",
      "       'King': 1,\n",
      "       'Know': 1,\n",
      "       'Koo': 1,\n",
      "       'LONG': 1,\n",
      "       'Legs': 1,\n",
      "       'Let': 9,\n",
      "       'Level': 1,\n",
      "       'Lo': 1,\n",
      "       'Loftiest': 1,\n",
      "       'Look': 7,\n",
      "       'Lower': 1,\n",
      "       'Luff': 2,\n",
      "       'MALTESE': 1,\n",
      "       'MATE': 1,\n",
      "       'MY': 1,\n",
      "       'Madness': 1,\n",
      "       'Make': 1,\n",
      "       'Man': 1,\n",
      "       'Mary': 1,\n",
      "       'Massa': 1,\n",
      "       'Men': 1,\n",
      "       'Methinks': 1,\n",
      "       'Midships': 1,\n",
      "       'Mind': 1,\n",
      "       'Moby': 1,\n",
      "       'Morning': 1,\n",
      "       'Most': 2,\n",
      "       'Mr': 2,\n",
      "       'Mrs': 1,\n",
      "       'My': 1,\n",
      "       'Naught': 1,\n",
      "       'Nay': 1,\n",
      "       'Never': 1,\n",
      "       'Nevertheless': 2,\n",
      "       'No': 8,\n",
      "       'Nor': 2,\n",
      "       'Not': 2,\n",
      "       'Nothing': 1,\n",
      "       'Now': 6,\n",
      "       'O': 2,\n",
      "       'OH': 1,\n",
      "       'OLD': 2,\n",
      "       'Oars': 1,\n",
      "       'Of': 1,\n",
      "       'Oh': 21,\n",
      "       'Old': 1,\n",
      "       'On': 2,\n",
      "       'One': 2,\n",
      "       'Our': 1,\n",
      "       'PIP': 2,\n",
      "       'Paean': 1,\n",
      "       'Pardon': 1,\n",
      "       'Pass': 2,\n",
      "       'Peace': 1,\n",
      "       'Peleg': 1,\n",
      "       'Pines': 1,\n",
      "       'Pip': 5,\n",
      "       'Plenty': 1,\n",
      "       'Plunge': 1,\n",
      "       'Pray': 1,\n",
      "       'Push': 1,\n",
      "       'Put': 1,\n",
      "       'Pythagoras': 1,\n",
      "       'Queequeg': 3,\n",
      "       'Quohog': 1,\n",
      "       'Rig': 1,\n",
      "       'SICILIAN': 1,\n",
      "       'SPANISH': 2,\n",
      "       'Said': 1,\n",
      "       'Sail': 1,\n",
      "       'Sailing': 1,\n",
      "       'Science': 1,\n",
      "       'See': 5,\n",
      "       'Set': 2,\n",
      "       'Shall': 1,\n",
      "       'She': 1,\n",
      "       'Shiver': 1,\n",
      "       'Short': 1,\n",
      "       'Shove': 1,\n",
      "       'Sir': 1,\n",
      "       'Slope': 1,\n",
      "       'Snatch': 1,\n",
      "       'So': 14,\n",
      "       'Some': 2,\n",
      "       'Speak': 1,\n",
      "       'Split': 1,\n",
      "       'Spring': 2,\n",
      "       'Stand': 8,\n",
      "       'Starbuck': 2,\n",
      "       'Start': 1,\n",
      "       'Still': 1,\n",
      "       'Straightway': 1,\n",
      "       'Stubb': 4,\n",
      "       'Such': 2,\n",
      "       'Sweet': 1,\n",
      "       'TASHTEGO': 2,\n",
      "       'THE': 1,\n",
      "       'THUS': 1,\n",
      "       'Take': 2,\n",
      "       'Tashtego': 1,\n",
      "       'Tell': 2,\n",
      "       'Tempered': 1,\n",
      "       'Ten': 1,\n",
      "       'Terrors': 1,\n",
      "       'Thanks': 1,\n",
      "       'That': 9,\n",
      "       'The': 28,\n",
      "       'Then': 1,\n",
      "       'There': 16,\n",
      "       'These': 1,\n",
      "       'They': 5,\n",
      "       'This': 10,\n",
      "       'Thou': 4,\n",
      "       'Though': 1,\n",
      "       'Three': 1,\n",
      "       'Thunder': 1,\n",
      "       'Thus': 1,\n",
      "       'To': 3,\n",
      "       'Towards': 1,\n",
      "       'True': 2,\n",
      "       'Truly': 1,\n",
      "       'Tumble': 1,\n",
      "       'Turn': 1,\n",
      "       'Until': 1,\n",
      "       'Up': 6,\n",
      "       'Upon': 1,\n",
      "       'Wa': 1,\n",
      "       'Watch': 1,\n",
      "       'We': 3,\n",
      "       'Well': 5,\n",
      "       'Were': 1,\n",
      "       'Whale': 1,\n",
      "       'What': 17,\n",
      "       'Whelped': 1,\n",
      "       'When': 1,\n",
      "       'Where': 1,\n",
      "       'Which': 1,\n",
      "       'While': 1,\n",
      "       'White': 2,\n",
      "       'Who': 8,\n",
      "       'Why': 3,\n",
      "       'Wife': 1,\n",
      "       'Will': 2,\n",
      "       'Woe': 5,\n",
      "       'Would': 2,\n",
      "       'Ye': 1,\n",
      "       'Yea': 2,\n",
      "       'Yes': 2,\n",
      "       'Yet': 5,\n",
      "       'Yoke': 1,\n",
      "       'Yon': 1,\n",
      "       'You': 2,\n",
      "       'Young': 1,\n",
      "       'Your': 1,\n",
      "       'a': 13,\n",
      "       'about': 1,\n",
      "       'above': 1,\n",
      "       'admire': 1,\n",
      "       'again': 2,\n",
      "       'ah': 1,\n",
      "       'all': 5,\n",
      "       'aloft': 1,\n",
      "       'alow': 1,\n",
      "       'and': 20,\n",
      "       'apoplexy': 1,\n",
      "       'are': 1,\n",
      "       'arise': 1,\n",
      "       'arrah': 1,\n",
      "       'at': 1,\n",
      "       'aye': 4,\n",
      "       'babies': 1,\n",
      "       'bear': 1,\n",
      "       'big': 1,\n",
      "       'bitter': 1,\n",
      "       'blocks': 1,\n",
      "       'blow': 1,\n",
      "       'both': 1,\n",
      "       'boy': 3,\n",
      "       'boys': 1,\n",
      "       'bury': 1,\n",
      "       'but': 6,\n",
      "       'call': 1,\n",
      "       'caw': 5,\n",
      "       'cherries': 2,\n",
      "       'clear': 1,\n",
      "       'close': 1,\n",
      "       'come': 2,\n",
      "       'comes': 1,\n",
      "       'constrainings': 1,\n",
      "       'cut': 1,\n",
      "       'd': 2,\n",
      "       'damned': 1,\n",
      "       'did': 3,\n",
      "       'do': 1,\n",
      "       'dost': 1,\n",
      "       'down': 2,\n",
      "       'drink': 1,\n",
      "       'dumplings': 1,\n",
      "       'epaulets': 1,\n",
      "       'fiery': 1,\n",
      "       'for': 3,\n",
      "       'forge': 1,\n",
      "       'forty': 2,\n",
      "       'from': 3,\n",
      "       'go': 2,\n",
      "       'going': 1,\n",
      "       'good': 3,\n",
      "       'goodness': 1,\n",
      "       'grand': 1,\n",
      "       'green': 1,\n",
      "       'gritted': 1,\n",
      "       'ha': 6,\n",
      "       'had': 1,\n",
      "       'hands': 2,\n",
      "       'happy': 1,\n",
      "       'hard': 2,\n",
      "       'has': 1,\n",
      "       'have': 2,\n",
      "       'he': 20,\n",
      "       'hearken': 1,\n",
      "       'heart': 1,\n",
      "       'heave': 1,\n",
      "       'heaviness': 1,\n",
      "       'helmsman': 1,\n",
      "       'hem': 1,\n",
      "       'here': 9,\n",
      "       'hey': 1,\n",
      "       'him': 2,\n",
      "       'hip': 1,\n",
      "       'hish': 1,\n",
      "       'ho': 1,\n",
      "       'hope': 1,\n",
      "       'how': 11,\n",
      "       'hurrah': 1,\n",
      "       'huzza': 2,\n",
      "       'ill': 1,\n",
      "       'in': 5,\n",
      "       'instead': 1,\n",
      "       'is': 6,\n",
      "       'it': 4,\n",
      "       'jolly': 1,\n",
      "       'jump': 1,\n",
      "       'keep': 2,\n",
      "       'know': 1,\n",
      "       'la': 2,\n",
      "       'larboard': 1,\n",
      "       'leaks': 1,\n",
      "       'leap': 1,\n",
      "       'legs': 1,\n",
      "       'let': 9,\n",
      "       'line': 1,\n",
      "       'lip': 1,\n",
      "       'lirra': 2,\n",
      "       'little': 1,\n",
      "       'lo': 1,\n",
      "       'long': 2,\n",
      "       'look': 4,\n",
      "       'looks': 1,\n",
      "       'low': 1,\n",
      "       'make': 1,\n",
      "       'man': 3,\n",
      "       'many': 1,\n",
      "       'mark': 1,\n",
      "       'master': 1,\n",
      "       'may': 1,\n",
      "       'men': 1,\n",
      "       'midships': 1,\n",
      "       'mockery': 1,\n",
      "       'more': 2,\n",
      "       'morning': 1,\n",
      "       'most': 1,\n",
      "       'murder': 1,\n",
      "       'must': 1,\n",
      "       'my': 7,\n",
      "       'never': 4,\n",
      "       'no': 5,\n",
      "       'noble': 1,\n",
      "       'not': 6,\n",
      "       'now': 2,\n",
      "       'oars': 2,\n",
      "       'of': 2,\n",
      "       'oh': 2,\n",
      "       'old': 1,\n",
      "       'on': 1,\n",
      "       'only': 1,\n",
      "       'overboard': 1,\n",
      "       'perry': 2,\n",
      "       'poor': 4,\n",
      "       'pull': 2,\n",
      "       'put': 1,\n",
      "       'question': 1,\n",
      "       'right': 1,\n",
      "       'said': 1,\n",
      "       'save': 1,\n",
      "       'says': 1,\n",
      "       'see': 7,\n",
      "       'shame': 2,\n",
      "       'sharp': 1,\n",
      "       'she': 3,\n",
      "       'shipmates': 1,\n",
      "       'shirr': 2,\n",
      "       'side': 1,\n",
      "       'sing': 2,\n",
      "       'sir': 1,\n",
      "       'so': 3,\n",
      "       'speak': 1,\n",
      "       'spite': 1,\n",
      "       'spring': 1,\n",
      "       'squeeze': 2,\n",
      "       'stand': 1,\n",
      "       'steady': 2,\n",
      "       'steer': 1,\n",
      "       'stop': 1,\n",
      "       'straightway': 1,\n",
      "       'stretch': 1,\n",
      "       'such': 4,\n",
      "       'take': 3,\n",
      "       'tear': 1,\n",
      "       'tell': 1,\n",
      "       'that': 16,\n",
      "       'the': 40,\n",
      "       'then': 1,\n",
      "       'there': 17,\n",
      "       'these': 1,\n",
      "       'this': 7,\n",
      "       'those': 2,\n",
      "       'thou': 12,\n",
      "       'thought': 3,\n",
      "       'throw': 1,\n",
      "       'thy': 2,\n",
      "       'time': 2,\n",
      "       'to': 5,\n",
      "       'turn': 1,\n",
      "       'unseen': 1,\n",
      "       'was': 2,\n",
      "       'we': 3,\n",
      "       'were': 1,\n",
      "       'wet': 1,\n",
      "       'whale': 1,\n",
      "       'what': 14,\n",
      "       'when': 2,\n",
      "       'where': 2,\n",
      "       'whew': 1,\n",
      "       'which': 1,\n",
      "       'who': 5,\n",
      "       'why': 6,\n",
      "       'will': 1,\n",
      "       'would': 1,\n",
      "       'ye': 8,\n",
      "       'yelled': 1,\n",
      "       'yesterday': 1,\n",
      "       'yonder': 1,\n",
      "       'you': 3,\n",
      "       'your': 1},\n",
      " '!\"': {'\"': 72,\n",
      "        '(': 1,\n",
      "        '--': 2,\n",
      "        'Accessory': 1,\n",
      "        'Ahab': 2,\n",
      "        'All': 1,\n",
      "        'And': 7,\n",
      "        'As': 6,\n",
      "        'At': 1,\n",
      "        'Both': 1,\n",
      "        'But': 10,\n",
      "        'CHAPTER': 11,\n",
      "        'Diving': 1,\n",
      "        'Dough': 1,\n",
      "        'Dropping': 1,\n",
      "        'During': 1,\n",
      "        'Fashioned': 1,\n",
      "        'Fired': 1,\n",
      "        'For': 1,\n",
      "        'Forthwith': 1,\n",
      "        'Gabriel': 1,\n",
      "        'Had': 1,\n",
      "        'He': 2,\n",
      "        'Hearing': 1,\n",
      "        'Hearkening': 1,\n",
      "        'Here': 2,\n",
      "        'I': 1,\n",
      "        'In': 3,\n",
      "        'Instantly': 1,\n",
      "        'It': 1,\n",
      "        'Lionel': 1,\n",
      "        'More': 1,\n",
      "        'Nimbly': 1,\n",
      "        'Now': 3,\n",
      "        'One': 1,\n",
      "        'Round': 1,\n",
      "        'Setting': 1,\n",
      "        'Silently': 1,\n",
      "        'Snap': 1,\n",
      "        'Something': 1,\n",
      "        'Soon': 2,\n",
      "        'Starting': 1,\n",
      "        'Steering': 1,\n",
      "        'Stubb': 2,\n",
      "        'Such': 1,\n",
      "      \n"
     ]
    }
   ],
   "source": [
    "model = MarkovModel()\n",
    "model.train(moby_dick)\n",
    "\n",
    "print(str(model)[:10000] )\n",
    "#print( model ) #uncomment to print the whole model"
   ]
  },
  {
   "cell_type": "code",
   "execution_count": 23,
   "metadata": {},
   "outputs": [
    {
     "name": "stdout",
     "output_type": "stream",
     "text": [
      "I ' s , and the flame of discovery whale - yards . But the whaleships , and anon a mildewed skull . They fancy mints , as pretty much in Don ' s peculiar ground - off in the first unknown worlds . Because the walrus way innocent . If that mystic rocks and Andes , however , I say , where I before our main - glasses . 1839 . Look at the cause of Africa , sat and families .... Utter confusion exists the prints -- seemed so taken part , and sleep two to yield you are \n"
     ]
    }
   ],
   "source": [
    "print( model.generate_text(100,\"I\") )"
   ]
  },
  {
   "cell_type": "markdown",
   "metadata": {
    "slideshow": {
     "slide_type": "fragment"
    }
   },
   "source": [
    "## Group Exercise\n",
    "\n",
    "Load some additional books and train the model with more than one book\n",
    "* call `model.train` multiple times\n",
    "\n",
    "What kind of text does your model generate?"
   ]
  },
  {
   "cell_type": "markdown",
   "metadata": {},
   "source": [
    "## Group Exercise\n",
    "\n",
    "Check out the other examples of corpora here: https://www.nltk.org/book/ch02.html\n",
    "\n",
    "Can you train and generate other kinds of text?"
   ]
  },
  {
   "cell_type": "markdown",
   "metadata": {},
   "source": [
    "## Group Exercise\n",
    "\n",
    "Sketch out what this data structure would look like if you wanted to use bigrams (two consecutive words) to predict the next word.\n",
    "\n",
    "This is called a **2nd-order Markov Model**\n",
    "\n",
    "`\"To be , or not to be , that is the question : Whether 'tis nobler in the mind to suffer The slings and arrows of outrageous fortune , Or to take Arms against a Sea of troubles\"`\n",
    "\n",
    "`{\"'tis\": {'nobler': 1},\n",
    " ',': {'or': 2, 'that': 1},\n",
    " ':': {'whether': 1},\n",
    " 'a': {'sea': 1},\n",
    " 'against': {'a': 1},\n",
    " 'and': {'arrows': 1},\n",
    " 'arms': {'against': 1},\n",
    " 'arrows': {'of': 1},\n",
    " 'be': {',': 2},\n",
    " 'fortune': {',': 1},\n",
    " 'in': {'the': 1},\n",
    " 'is': {'the': 1},\n",
    " 'mind': {'to': 1},\n",
    " 'nobler': {'in': 1},\n",
    " 'not': {'to': 1},\n",
    " 'of': {'outrageous': 1, 'troubles': 1},\n",
    " 'or': {'not': 1, 'to': 1},\n",
    " 'outrageous': {'fortune': 1},\n",
    " 'question': {':': 1},\n",
    " 'sea': {'of': 1},\n",
    " 'slings': {'and': 1},\n",
    " 'suffer': {'the': 1},\n",
    " 'take': {'arms': 1},\n",
    " 'that': {'is': 1},\n",
    " 'the': {'mind': 1, 'question': 1, 'slings': 1},\n",
    " 'to': {'be': 2, 'suffer': 1, 'take': 1},\n",
    " 'whether': {\"'tis\": 1}}`\n"
   ]
  },
  {
   "cell_type": "markdown",
   "metadata": {
    "slideshow": {
     "slide_type": "slide"
    }
   },
   "source": [
    "## Applied Exploration\n",
    "\n",
    "Enhance the `MarkovModel` class to take in a parameter that allows it to be a 1st, 2nd, 3rd, etc. order model.\n",
    "* Train it with a large corpus (maybe more than one)\n",
    "* Give examples of the text generated at each order\n",
    "* Do you run into difficulties with some pairs not being present? How should we deal with those - write down some ideas.\n",
    "\n"
   ]
  },
  {
   "cell_type": "markdown",
   "metadata": {
    "slideshow": {
     "slide_type": "slide"
    }
   },
   "source": [
    "## Example of using the visualizer"
   ]
  },
  {
   "cell_type": "code",
   "execution_count": 24,
   "metadata": {},
   "outputs": [
    {
     "name": "stdout",
     "output_type": "stream",
     "text": [
      "['to', 'be', ',', 'or', 'not', 'to', 'be', ',', 'that', 'is', 'the', 'question', ':', 'whether', \"'tis\", 'nobler', 'in', 'the', 'mind', 'to', 'suffer', 'the', 'slings', 'and', 'arrows', 'of', 'outrageous', 'fortune', ',', 'or', 'to', 'take', 'arms', 'against', 'a', 'sea', 'of', 'troubles']\n"
     ]
    },
    {
     "data": {
      "image/png": "[encoded data removed]",
      "text/plain": [
       "<Figure size 432x288 with 1 Axes>"
      ]
     },
     "metadata": {},
     "output_type": "display_data"
    }
   ],
   "source": [
    "to_be = \"To be , or not to be , that is the question : Whether 'tis nobler in the mind to suffer The slings and arrows of outrageous fortune , Or to take Arms against a Sea of troubles\"\n",
    "to_be_tokens = to_be.lower().split() #convert to lowercase and break apart by spaces into a list\n",
    "print(to_be_tokens)\n",
    "\n",
    "to_be_model = MarkovModel()\n",
    "to_be_model.train(to_be_tokens)\n",
    "to_be_model.visualize(probabilities=False)"
   ]
  }
 ],
 "metadata": {
  "celltoolbar": "Slideshow",
  "colab": {
   "authorship_tag": "ABX9TyOf2oi4GbgdvkO0orSdgZtQ",
   "provenance": []
  },
  "kernelspec": {
   "display_name": "Python 3 (ipykernel)",
   "language": "python",
   "name": "python3"
  },
  "language_info": {
   "codemirror_mode": {
    "name": "ipython",
    "version": 3
   },
   "file_extension": ".py",
   "mimetype": "text/x-python",
   "name": "python",
   "nbconvert_exporter": "python",
   "pygments_lexer": "ipython3",
   "version": "3.10.6"
  }
 },
 "nbformat": 4,
 "nbformat_minor": 1
}
